{
 "cells": [
  {
   "cell_type": "markdown",
   "id": "cubic-house",
   "metadata": {
    "id": "14EwA-Giwaf7",
    "papermill": {
     "duration": 0.04404,
     "end_time": "2021-06-19T02:02:03.694425",
     "exception": false,
     "start_time": "2021-06-19T02:02:03.650385",
     "status": "completed"
    },
    "tags": []
   },
   "source": [
    "# Task 04 - Sepsis Detection\n",
    "\n",
    "Débora Mayumi Rissato - 5288223\n",
    "\n",
    "Douglas Decicino de Andrade - 10883512\n",
    "\n",
    "Paulino Ribeiro Villas Boas - 2950178\n",
    "\n",
    "Renan Silva Chun - 10691817\n",
    "\n",
    "Renan de Oliveira da Cruz - 10801090"
   ]
  },
  {
   "cell_type": "markdown",
   "id": "superior-divorce",
   "metadata": {
    "id": "JlBQ8YxJwagA",
    "papermill": {
     "duration": 0.04292,
     "end_time": "2021-06-19T02:02:03.781044",
     "exception": false,
     "start_time": "2021-06-19T02:02:03.738124",
     "status": "completed"
    },
    "tags": []
   },
   "source": [
    "Abaixo temos o import de algumas bibliotecas."
   ]
  },
  {
   "cell_type": "code",
   "execution_count": 1,
   "id": "acquired-heaven",
   "metadata": {
    "execution": {
     "iopub.execute_input": "2021-06-19T02:02:03.879941Z",
     "iopub.status.busy": "2021-06-19T02:02:03.878290Z",
     "iopub.status.idle": "2021-06-19T02:02:05.365254Z",
     "shell.execute_reply": "2021-06-19T02:02:05.364643Z"
    },
    "id": "-QiKtG8cwagB",
    "papermill": {
     "duration": 1.54123,
     "end_time": "2021-06-19T02:02:05.365394",
     "exception": false,
     "start_time": "2021-06-19T02:02:03.824164",
     "status": "completed"
    },
    "pycharm": {
     "name": "#%%\n"
    },
    "tags": []
   },
   "outputs": [],
   "source": [
    "import numpy as np\n",
    "import pandas as pd\n",
    "import seaborn as sns\n",
    "import matplotlib.pyplot as plt\n",
    "from sklearn.preprocessing import StandardScaler \n",
    "from sklearn.model_selection import (RepeatedStratifiedKFold, cross_validate,\n",
    "                                     train_test_split, GridSearchCV,\n",
    "                                     LeaveOneOut, KFold, StratifiedKFold,\n",
    "                                     cross_val_score)\n",
    "\n",
    "from sklearn.metrics import (classification_report, balanced_accuracy_score,\n",
    "                             precision_score, roc_auc_score, accuracy_score,\n",
    "                             f1_score, confusion_matrix,classification_report,roc_curve,precision_recall_curve)\n",
    "import traceback\n",
    "import re\n",
    "import pandas.core.algorithms as algos\n",
    "from pandas import Series\n",
    "import scipy.stats.stats as stats\n",
    "import string\n",
    "from sklearn.feature_selection import RFE\n",
    "from sklearn.linear_model import LogisticRegression\n",
    "from sklearn.ensemble import RandomForestClassifier\n",
    "from sklearn.neighbors import KNeighborsClassifier\n",
    "from sklearn.naive_bayes import GaussianNB\n",
    "from sklearn import svm\n",
    "from xgboost import XGBClassifier\n",
    "from sklearn.ensemble import AdaBoostClassifier\n",
    "import random"
   ]
  },
  {
   "cell_type": "markdown",
   "id": "shared-biography",
   "metadata": {
    "id": "z2bLl5X9wagD",
    "papermill": {
     "duration": 0.028685,
     "end_time": "2021-06-19T02:02:05.423430",
     "exception": false,
     "start_time": "2021-06-19T02:02:05.394745",
     "status": "completed"
    },
    "tags": []
   },
   "source": [
    "## Tratamento da base "
   ]
  },
  {
   "cell_type": "markdown",
   "id": "direct-jersey",
   "metadata": {
    "id": "4L0Hxi1awagD",
    "papermill": {
     "duration": 0.028763,
     "end_time": "2021-06-19T02:02:05.480883",
     "exception": false,
     "start_time": "2021-06-19T02:02:05.452120",
     "status": "completed"
    },
    "pycharm": {
     "name": "#%% md\n"
    },
    "tags": []
   },
   "source": [
    "Importando os dados"
   ]
  },
  {
   "cell_type": "code",
   "execution_count": 2,
   "id": "behind-surgeon",
   "metadata": {
    "execution": {
     "iopub.execute_input": "2021-06-19T02:02:05.543981Z",
     "iopub.status.busy": "2021-06-19T02:02:05.543313Z",
     "iopub.status.idle": "2021-06-19T02:02:05.595603Z",
     "shell.execute_reply": "2021-06-19T02:02:05.595108Z"
    },
    "id": "DhadcdWIwagD",
    "papermill": {
     "duration": 0.085485,
     "end_time": "2021-06-19T02:02:05.595711",
     "exception": false,
     "start_time": "2021-06-19T02:02:05.510226",
     "status": "completed"
    },
    "pycharm": {
     "name": "#%%\n"
    },
    "tags": []
   },
   "outputs": [],
   "source": [
    "test = pd.read_csv('../input/task-04/test_data_without_label.csv')\n",
    "dados = pd.read_csv('../input/task-04/training_data.csv')"
   ]
  },
  {
   "cell_type": "markdown",
   "id": "headed-crown",
   "metadata": {
    "id": "O93KoLD1wagE",
    "papermill": {
     "duration": 0.028997,
     "end_time": "2021-06-19T02:02:05.653186",
     "exception": false,
     "start_time": "2021-06-19T02:02:05.624189",
     "status": "completed"
    },
    "tags": []
   },
   "source": [
    "Proporção de casos positivos de Sepse nos dados de treinamento."
   ]
  },
  {
   "cell_type": "code",
   "execution_count": 3,
   "id": "popular-straight",
   "metadata": {
    "execution": {
     "iopub.execute_input": "2021-06-19T02:02:05.722702Z",
     "iopub.status.busy": "2021-06-19T02:02:05.722234Z",
     "iopub.status.idle": "2021-06-19T02:02:05.730503Z",
     "shell.execute_reply": "2021-06-19T02:02:05.730061Z"
    },
    "id": "whZ9PnTNwagF",
    "outputId": "89cb261d-94b1-40fb-ed3d-2cd9bcd52467",
    "papermill": {
     "duration": 0.04889,
     "end_time": "2021-06-19T02:02:05.730607",
     "exception": false,
     "start_time": "2021-06-19T02:02:05.681717",
     "status": "completed"
    },
    "pycharm": {
     "name": "#%%\n"
    },
    "tags": []
   },
   "outputs": [
    {
     "name": "stdout",
     "output_type": "stream",
     "text": [
      "0    14374\n",
      "1     2575\n",
      "Name: sepse, dtype: int64\n",
      "0.15192636733730602\n"
     ]
    }
   ],
   "source": [
    "sepsis_ratio = dados['sepse'].value_counts()\n",
    "print(sepsis_ratio)\n",
    "sepsis_ratio = sepsis_ratio[1] / sepsis_ratio.sum()\n",
    "print(sepsis_ratio)"
   ]
  },
  {
   "cell_type": "markdown",
   "id": "responsible-scholarship",
   "metadata": {
    "id": "hkxwFKUywagG",
    "papermill": {
     "duration": 0.028331,
     "end_time": "2021-06-19T02:02:05.787777",
     "exception": false,
     "start_time": "2021-06-19T02:02:05.759446",
     "status": "completed"
    },
    "tags": []
   },
   "source": [
    "Nota-se que o dataset apresenta alto grau de desbalanceamento."
   ]
  },
  {
   "cell_type": "markdown",
   "id": "supposed-organ",
   "metadata": {
    "id": "HWmJkjPSwagH",
    "papermill": {
     "duration": 0.028372,
     "end_time": "2021-06-19T02:02:05.844289",
     "exception": false,
     "start_time": "2021-06-19T02:02:05.815917",
     "status": "completed"
    },
    "tags": []
   },
   "source": [
    "Proporção de valores ausentes para cada variável."
   ]
  },
  {
   "cell_type": "code",
   "execution_count": 4,
   "id": "conscious-courtesy",
   "metadata": {
    "execution": {
     "iopub.execute_input": "2021-06-19T02:02:05.906243Z",
     "iopub.status.busy": "2021-06-19T02:02:05.905588Z",
     "iopub.status.idle": "2021-06-19T02:02:05.916446Z",
     "shell.execute_reply": "2021-06-19T02:02:05.916054Z"
    },
    "id": "Y7Atc_YAwagH",
    "outputId": "8ab4c3db-59d7-43e2-a164-4ea53e8f72ea",
    "papermill": {
     "duration": 0.043818,
     "end_time": "2021-06-19T02:02:05.916548",
     "exception": false,
     "start_time": "2021-06-19T02:02:05.872730",
     "status": "completed"
    },
    "tags": []
   },
   "outputs": [
    {
     "data": {
      "text/plain": [
       "respiracao     0.810313\n",
       "pa_max         0.499616\n",
       "pa_min         0.499498\n",
       "pulso          0.161425\n",
       "temperatura    0.126556\n",
       "id             0.000000\n",
       "num_atend      0.000000\n",
       "sepse          0.000000\n",
       "dtype: float64"
      ]
     },
     "execution_count": 4,
     "metadata": {},
     "output_type": "execute_result"
    }
   ],
   "source": [
    "dados.isnull().mean().sort_values(ascending = False)"
   ]
  },
  {
   "cell_type": "markdown",
   "id": "average-hobby",
   "metadata": {
    "id": "z8cpIGaTwagI",
    "papermill": {
     "duration": 0.028679,
     "end_time": "2021-06-19T02:02:05.974586",
     "exception": false,
     "start_time": "2021-06-19T02:02:05.945907",
     "status": "completed"
    },
    "tags": []
   },
   "source": [
    "A partir do output acima notamos que, nos dados de treinamento, a variável \"respiração\" contém cerca de 80% de valores ausentes. Sendo assim, optamos por excluir essa variável do dataset em razão da número de valores ausentes."
   ]
  },
  {
   "cell_type": "code",
   "execution_count": 5,
   "id": "graduate-remains",
   "metadata": {
    "execution": {
     "iopub.execute_input": "2021-06-19T02:02:06.043368Z",
     "iopub.status.busy": "2021-06-19T02:02:06.042864Z",
     "iopub.status.idle": "2021-06-19T02:02:06.045459Z",
     "shell.execute_reply": "2021-06-19T02:02:06.045026Z"
    },
    "id": "QqzDGsjRwagI",
    "papermill": {
     "duration": 0.042014,
     "end_time": "2021-06-19T02:02:06.045568",
     "exception": false,
     "start_time": "2021-06-19T02:02:06.003554",
     "status": "completed"
    },
    "tags": []
   },
   "outputs": [],
   "source": [
    "dados.drop(columns = \"respiracao\", inplace = True)\n",
    "test.drop(columns = \"respiracao\", inplace = True)"
   ]
  },
  {
   "cell_type": "markdown",
   "id": "adequate-characteristic",
   "metadata": {
    "id": "fveapX4OwagI",
    "papermill": {
     "duration": 0.029594,
     "end_time": "2021-06-19T02:02:06.105056",
     "exception": false,
     "start_time": "2021-06-19T02:02:06.075462",
     "status": "completed"
    },
    "tags": []
   },
   "source": [
    "Abaixo, construimos algumas funções que corrigem valores que acreditamos ter sido preenchidos errôneamente. Correções como por exemplo:\n",
    "\n",
    "\n",
    "*   Possiveis erros de digitação (valores \"muito altos\" e \"muito baixos\" para a variável observada). Acreditamos que o usuário digitou ou um zero a mais ou um a menos em alguns casos;\n",
    "*   Para variáveis como temperatura, pulso, e PA min e max, substituimos valores igual a 0 por NAN's, pois este valor para estas variáveis não faz sentido.\n",
    "\n"
   ]
  },
  {
   "cell_type": "code",
   "execution_count": 6,
   "id": "after-testament",
   "metadata": {
    "execution": {
     "iopub.execute_input": "2021-06-19T02:02:06.182702Z",
     "iopub.status.busy": "2021-06-19T02:02:06.177362Z",
     "iopub.status.idle": "2021-06-19T02:02:06.187287Z",
     "shell.execute_reply": "2021-06-19T02:02:06.187656Z"
    },
    "id": "7lLUJc4DwagJ",
    "papermill": {
     "duration": 0.053007,
     "end_time": "2021-06-19T02:02:06.187786",
     "exception": false,
     "start_time": "2021-06-19T02:02:06.134779",
     "status": "completed"
    },
    "pycharm": {
     "name": "#%%\n"
    },
    "tags": []
   },
   "outputs": [],
   "source": [
    "def corrigePulso(df, isTest = False):\n",
    "    \n",
    "    if isTest:\n",
    "        sns.boxplot(y = df[\"pulso\"])\n",
    "        plt.title(\"Box Plot para a variável Pulso - Antes de Modificar\")\n",
    "        plt.show()\n",
    "    else:\n",
    "        sns.boxplot(x = df[\"sepse\"], y = df[\"pulso\"])\n",
    "        plt.title(\"Box Plot para a variável Pulso - Antes de Modificar\")\n",
    "        plt.show()\n",
    "        \n",
    "    indices = df['pulso'].between(600,2000)\n",
    "    df.loc[indices,'pulso'] = df.loc[indices,'pulso']/10\n",
    "    indices = df['pulso'] == 0\n",
    "    df.loc[indices,'pulso'] = np.nan\n",
    "    indices = df['pulso'].between(0,15)\n",
    "    df.loc[indices,'pulso'] = df.loc[indices,'pulso']*10\n",
    "    \n",
    "    if isTest:\n",
    "        sns.boxplot(y = df[\"pulso\"])\n",
    "        plt.title(\"Box Plot para a variável Pulso - Depois de Modificar\")\n",
    "        plt.show()\n",
    "    else:\n",
    "        sns.boxplot(x = df[\"sepse\"], y = df[\"pulso\"])\n",
    "        plt.title(\"Box Plot para a variável Pulso - Depois de Modificar\")\n",
    "        plt.show()\n",
    "    \n",
    "    return df\n",
    "\n",
    "def corrigeTemperatura(df, isTest = False):\n",
    "    \n",
    "    if isTest:\n",
    "        sns.boxplot(y = df[\"temperatura\"])\n",
    "        plt.title(\"Box Plot para a Temperatura - Antes de Modificar\")\n",
    "        plt.show()\n",
    "    else:\n",
    "        sns.boxplot(x = df[\"sepse\"], y = df[\"temperatura\"])\n",
    "        plt.title(\"Box Plot para a Temperatura - Antes de Modificar\")\n",
    "        plt.show()\n",
    "    \n",
    "    indices = df[\"temperatura\"].between(300,400)\n",
    "    df.loc[indices,\"temperatura\"] = df.loc[indices,\"temperatura\"]/10\n",
    "    indices = df[\"temperatura\"]>3000\n",
    "    df.loc[indices,\"temperatura\"] = df.loc[indices,\"temperatura\"]/100\n",
    "    df.loc[df[\"temperatura\"].between(41,299),\"temperatura\"] = np.nan\n",
    "    indices = df[\"temperatura\"]<0\n",
    "    df.loc[indices,\"temperatura\"] = -df.loc[indices,\"temperatura\"]\n",
    "    indices = df[\"temperatura\"].between(0,30)\n",
    "    df.loc[indices,\"temperatura\"] = np.nan\n",
    "\n",
    "    if isTest:\n",
    "        sns.boxplot(y = df[\"temperatura\"])\n",
    "        plt.title(\"Box Plot para a Temperatura - Depois de Modificar\")\n",
    "        plt.show()\n",
    "    else:\n",
    "        sns.boxplot(x = df[\"sepse\"], y = df[\"temperatura\"])\n",
    "        plt.title(\"Box Plot para a Temperatura - Depois de Modificar\")\n",
    "        plt.show()\n",
    "    \n",
    "    return df\n",
    "\n",
    "def corrigePA(df, isTest = False):\n",
    "    \n",
    "    if isTest:\n",
    "        sns.boxplot(y = df[\"pa_min\"])\n",
    "        plt.title(\"Box Plot para a Pressão Arterial Min - Antes de Modificar\")\n",
    "        plt.show()\n",
    "    else:\n",
    "        sns.boxplot(x = df[\"sepse\"], y = df[\"pa_min\"])\n",
    "        plt.title(\"Box Plot para a Pressão Arterial Min - Antes de Modificar\")\n",
    "        plt.show()\n",
    "        \n",
    "        \n",
    "    if isTest:\n",
    "        sns.boxplot(y = df[\"pa_max\"])\n",
    "        plt.title(\"Box Plot para a Pressão Arterial max - Antes de Modificar\")\n",
    "        plt.show()\n",
    "    else:\n",
    "        sns.boxplot(x = df[\"sepse\"], y = df[\"pa_max\"])\n",
    "        plt.title(\"Box Plot para a Pressão Arterial max - Antes de Modificar\")\n",
    "        plt.show()\n",
    "    \n",
    "    # Provavelmente erro de digitação MIN\n",
    "    df.loc[df.loc[:, \"pa_min\"] > 300, \"pa_min\"] = df.loc[df.loc[:, \"pa_min\"] > 300, \"pa_min\"]/10\n",
    "    \n",
    "    # Provavelmente erro de digitação MIN\n",
    "    df.loc[df.loc[:, \"pa_min\"] < 20, \"pa_min\"] = df.loc[df.loc[:, \"pa_min\"] < 20, \"pa_min\"]*10\n",
    "    \n",
    "    # Provavelmente erro de digitação MAX\n",
    "    df.loc[df.loc[:, \"pa_max\"] > 300, \"pa_max\"] = df.loc[df.loc[:, \"pa_max\"] > 300, \"pa_max\"]/10\n",
    "    \n",
    "    # Provavelmente erro de digitação MAX\n",
    "    df.loc[df.loc[:, \"pa_min\"] < 20, \"pa_max\"] = df.loc[df.loc[:, \"pa_max\"] < 20, \"pa_max\"]*10\n",
    "    \n",
    "    \n",
    "    # Percebemos que de um modo geral as observações relacionadas ao PA_MAX são menores do que as\n",
    "    # observações relacionadas ao PA_MIN. Acreditamos que isso possa ser um erro na hora de nomear\n",
    "    # as colunas. Assim, como isso ocorre de maneira global, decidimos continuar fazendo da maneira\n",
    "    # que está nomeado.\n",
    "    # A única inconsistencia é todas as observações do PA_MAX tem que ser menores do que que todas\n",
    "    # as observações do PA_MAX.\n",
    "    # Nas linhas abaixo fazemos essa alteração.\n",
    "    if sum(df['pa_min'] < df['pa_max']) > 0:\n",
    "        indices = df[df['pa_min'] < df['pa_max']].index\n",
    "        for ind in indices:\n",
    "            aux = df.loc[ind, \"pa_min\"]\n",
    "            df.loc[ind, \"pa_min\"] = df.loc[ind, \"pa_max\"]\n",
    "            df.loc[ind, \"pa_max\"] = aux\n",
    "    \n",
    "    # dados considerados como \"normais\", isto é, não é erro de digitação\n",
    "    indices = df[\"pa_min\"].between(20,300)\n",
    "    indices = indices == False # onde tá True coloco False e onde está False coloco True\n",
    "    \n",
    "    df.loc[indices, \"pa_min\"] = np.nan\n",
    "    \n",
    "    # dados considerados como \"normais\", isto é, não é erro de digitação\n",
    "    indices = df[\"pa_max\"].between(20,300)\n",
    "    indices = indices == False # onde tá True coloco False e onde está False coloco True\n",
    "    \n",
    "    df.loc[indices, \"pa_max\"] = np.nan\n",
    "     \n",
    "    if isTest:\n",
    "        sns.boxplot(y = df[\"pa_min\"])\n",
    "        plt.title(\"Box Plot para a Pressão Arterial Min - Depois de Modificar\")\n",
    "        plt.show()\n",
    "    else:\n",
    "        sns.boxplot(x = df[\"sepse\"], y = df[\"pa_min\"])\n",
    "        plt.title(\"Box Plot para a Pressão Arterial Min - Depois de Modificar\")\n",
    "        plt.show()\n",
    "\n",
    "    if isTest:\n",
    "        sns.boxplot(y = df[\"pa_max\"])\n",
    "        plt.title(\"Box Plot para a Pressão Arterial Max - Depois de Modificar\")\n",
    "        plt.show()\n",
    "    else:\n",
    "        sns.boxplot(x = df[\"sepse\"], y = df[\"pa_max\"])\n",
    "        plt.title(\"Box Plot para a Pressão Arterial Max - Depois de Modificar\")\n",
    "        plt.show() \n",
    "        \n",
    "    return df"
   ]
  },
  {
   "cell_type": "markdown",
   "id": "effective-string",
   "metadata": {
    "id": "dHDvgct8wagO",
    "papermill": {
     "duration": 0.029663,
     "end_time": "2021-06-19T02:02:06.247271",
     "exception": false,
     "start_time": "2021-06-19T02:02:06.217608",
     "status": "completed"
    },
    "tags": []
   },
   "source": [
    "Agora, aplicamos as funções criadas nos dados."
   ]
  },
  {
   "cell_type": "markdown",
   "id": "otherwise-alliance",
   "metadata": {
    "id": "OrBpTvBEwagP",
    "papermill": {
     "duration": 0.029802,
     "end_time": "2021-06-19T02:02:06.306751",
     "exception": false,
     "start_time": "2021-06-19T02:02:06.276949",
     "status": "completed"
    },
    "tags": []
   },
   "source": [
    "### Dados de Treinamento"
   ]
  },
  {
   "cell_type": "markdown",
   "id": "bored-massachusetts",
   "metadata": {
    "id": "IXaVhgJP7M4u",
    "papermill": {
     "duration": 0.029754,
     "end_time": "2021-06-19T02:02:06.366602",
     "exception": false,
     "start_time": "2021-06-19T02:02:06.336848",
     "status": "completed"
    },
    "tags": []
   },
   "source": [
    "Abaixo, temos então a correção das variáveis para o conjunto de treino, assim como os plots de antes e depois destas correções (já implementados nas funções)."
   ]
  },
  {
   "cell_type": "markdown",
   "id": "arbitrary-balloon",
   "metadata": {
    "id": "HNUKKkiywagP",
    "papermill": {
     "duration": 0.030072,
     "end_time": "2021-06-19T02:02:06.426844",
     "exception": false,
     "start_time": "2021-06-19T02:02:06.396772",
     "status": "completed"
    },
    "tags": []
   },
   "source": [
    "* Correção da variável Pulso"
   ]
  },
  {
   "cell_type": "code",
   "execution_count": 7,
   "id": "loving-province",
   "metadata": {
    "execution": {
     "iopub.execute_input": "2021-06-19T02:02:06.489957Z",
     "iopub.status.busy": "2021-06-19T02:02:06.489326Z",
     "iopub.status.idle": "2021-06-19T02:02:06.845289Z",
     "shell.execute_reply": "2021-06-19T02:02:06.844811Z"
    },
    "id": "hcfa1cFrwagP",
    "outputId": "c112b96f-782d-4841-8c31-4c2ad6f1d975",
    "papermill": {
     "duration": 0.388001,
     "end_time": "2021-06-19T02:02:06.845393",
     "exception": false,
     "start_time": "2021-06-19T02:02:06.457392",
     "status": "completed"
    },
    "tags": []
   },
   "outputs": [
    {
     "data": {
      "image/png": "[encoded data removed]",
      "text/plain": [
       "<Figure size 432x288 with 1 Axes>"
      ]
     },
     "metadata": {
      "needs_background": "light"
     },
     "output_type": "display_data"
    },
    {
     "data": {
      "image/png": "[encoded data removed]",
      "text/plain": [
       "<Figure size 432x288 with 1 Axes>"
      ]
     },
     "metadata": {
      "needs_background": "light"
     },
     "output_type": "display_data"
    }
   ],
   "source": [
    "dados = corrigePulso(dados)"
   ]
  },
  {
   "cell_type": "markdown",
   "id": "subtle-discrimination",
   "metadata": {
    "id": "1Y4oOtX9wagQ",
    "papermill": {
     "duration": 0.031008,
     "end_time": "2021-06-19T02:02:06.908520",
     "exception": false,
     "start_time": "2021-06-19T02:02:06.877512",
     "status": "completed"
    },
    "tags": []
   },
   "source": [
    "Percebemos, mediante o gráfico acima que mesmo após a correção de alguns valores tem-se a presença de outliers."
   ]
  },
  {
   "cell_type": "markdown",
   "id": "standard-genesis",
   "metadata": {
    "id": "4tDtW8K6wagQ",
    "papermill": {
     "duration": 0.031183,
     "end_time": "2021-06-19T02:02:06.970660",
     "exception": false,
     "start_time": "2021-06-19T02:02:06.939477",
     "status": "completed"
    },
    "tags": []
   },
   "source": [
    "* Correção da variável Temperatura"
   ]
  },
  {
   "cell_type": "code",
   "execution_count": 8,
   "id": "enclosed-teacher",
   "metadata": {
    "execution": {
     "iopub.execute_input": "2021-06-19T02:02:07.038885Z",
     "iopub.status.busy": "2021-06-19T02:02:07.038183Z",
     "iopub.status.idle": "2021-06-19T02:02:07.497302Z",
     "shell.execute_reply": "2021-06-19T02:02:07.496775Z"
    },
    "id": "4RkFolANwagR",
    "outputId": "273aa48e-e040-4258-8117-cc440b60e47a",
    "papermill": {
     "duration": 0.495275,
     "end_time": "2021-06-19T02:02:07.497443",
     "exception": false,
     "start_time": "2021-06-19T02:02:07.002168",
     "status": "completed"
    },
    "tags": []
   },
   "outputs": [
    {
     "data": {
      "image/png": "[encoded data removed]",
      "text/plain": [
       "<Figure size 432x288 with 1 Axes>"
      ]
     },
     "metadata": {
      "needs_background": "light"
     },
     "output_type": "display_data"
    },
    {
     "data": {
      "image/png": "[encoded data removed]",
      "text/plain": [
       "<Figure size 432x288 with 1 Axes>"
      ]
     },
     "metadata": {
      "needs_background": "light"
     },
     "output_type": "display_data"
    }
   ],
   "source": [
    "dados = corrigeTemperatura(dados)"
   ]
  },
  {
   "cell_type": "markdown",
   "id": "statutory-arthritis",
   "metadata": {
    "id": "MMou6IvUwagR",
    "papermill": {
     "duration": 0.048053,
     "end_time": "2021-06-19T02:02:07.593927",
     "exception": false,
     "start_time": "2021-06-19T02:02:07.545874",
     "status": "completed"
    },
    "tags": []
   },
   "source": [
    "Destaca-se que consideramos o os valores de 0 a 30 da variavel temperatura como sendo um valor ausente."
   ]
  },
  {
   "cell_type": "markdown",
   "id": "honey-necessity",
   "metadata": {
    "id": "FvupbrqdwagS",
    "papermill": {
     "duration": 0.048097,
     "end_time": "2021-06-19T02:02:07.690349",
     "exception": false,
     "start_time": "2021-06-19T02:02:07.642252",
     "status": "completed"
    },
    "tags": []
   },
   "source": [
    "- Correção das variáveis de pressão arterial"
   ]
  },
  {
   "cell_type": "code",
   "execution_count": 9,
   "id": "incorporated-publication",
   "metadata": {
    "execution": {
     "iopub.execute_input": "2021-06-19T02:02:07.790832Z",
     "iopub.status.busy": "2021-06-19T02:02:07.790335Z",
     "iopub.status.idle": "2021-06-19T02:02:08.307319Z",
     "shell.execute_reply": "2021-06-19T02:02:08.306905Z"
    },
    "id": "5dGwpF37wagS",
    "outputId": "e50cd1f7-bed4-4f29-8a82-c7ead1d62de6",
    "papermill": {
     "duration": 0.56905,
     "end_time": "2021-06-19T02:02:08.307436",
     "exception": false,
     "start_time": "2021-06-19T02:02:07.738386",
     "status": "completed"
    },
    "tags": []
   },
   "outputs": [
    {
     "data": {
      "image/png": "[encoded data removed]",
      "text/plain": [
       "<Figure size 432x288 with 1 Axes>"
      ]
     },
     "metadata": {
      "needs_background": "light"
     },
     "output_type": "display_data"
    },
    {
     "data": {
      "image/png": "[encoded data removed]",
      "text/plain": [
       "<Figure size 432x288 with 1 Axes>"
      ]
     },
     "metadata": {
      "needs_background": "light"
     },
     "output_type": "display_data"
    },
    {
     "data": {
      "image/png": "[encoded data removed]",
      "text/plain": [
       "<Figure size 432x288 with 1 Axes>"
      ]
     },
     "metadata": {
      "needs_background": "light"
     },
     "output_type": "display_data"
    },
    {
     "data": {
      "image/png": "[encoded data removed]",
      "text/plain": [
       "<Figure size 432x288 with 1 Axes>"
      ]
     },
     "metadata": {
      "needs_background": "light"
     },
     "output_type": "display_data"
    }
   ],
   "source": [
    "dados = corrigePA(dados)"
   ]
  },
  {
   "cell_type": "markdown",
   "id": "convinced-sitting",
   "metadata": {
    "id": "IQmwVJkcwagS",
    "papermill": {
     "duration": 0.035704,
     "end_time": "2021-06-19T02:02:08.379723",
     "exception": false,
     "start_time": "2021-06-19T02:02:08.344019",
     "status": "completed"
    },
    "tags": []
   },
   "source": [
    "### Dados de Teste"
   ]
  },
  {
   "cell_type": "markdown",
   "id": "developing-compiler",
   "metadata": {
    "id": "xdxkxWpS7lDf",
    "papermill": {
     "duration": 0.035904,
     "end_time": "2021-06-19T02:02:08.451476",
     "exception": false,
     "start_time": "2021-06-19T02:02:08.415572",
     "status": "completed"
    },
    "tags": []
   },
   "source": [
    "Abaixo, temos então a correção das variáveis para o conjunto de teste, assim como os plots de antes e depois destas correções (já implementados nas funções)."
   ]
  },
  {
   "cell_type": "markdown",
   "id": "thick-contribution",
   "metadata": {
    "id": "6UiT37yPwagT",
    "papermill": {
     "duration": 0.035028,
     "end_time": "2021-06-19T02:02:08.522540",
     "exception": false,
     "start_time": "2021-06-19T02:02:08.487512",
     "status": "completed"
    },
    "tags": []
   },
   "source": [
    "* Correção da variável Pulso"
   ]
  },
  {
   "cell_type": "code",
   "execution_count": 10,
   "id": "cleared-broadcasting",
   "metadata": {
    "execution": {
     "iopub.execute_input": "2021-06-19T02:02:08.609938Z",
     "iopub.status.busy": "2021-06-19T02:02:08.597389Z",
     "iopub.status.idle": "2021-06-19T02:02:08.796166Z",
     "shell.execute_reply": "2021-06-19T02:02:08.795735Z"
    },
    "id": "mpAfJ8iPwagT",
    "outputId": "85310f4a-dada-48d9-d479-a8be633b3aa2",
    "papermill": {
     "duration": 0.23821,
     "end_time": "2021-06-19T02:02:08.796279",
     "exception": false,
     "start_time": "2021-06-19T02:02:08.558069",
     "status": "completed"
    },
    "tags": []
   },
   "outputs": [
    {
     "data": {
      "image/png": "[encoded data removed]",
      "text/plain": [
       "<Figure size 432x288 with 1 Axes>"
      ]
     },
     "metadata": {
      "needs_background": "light"
     },
     "output_type": "display_data"
    },
    {
     "data": {
      "image/png": "[encoded data removed]",
      "text/plain": [
       "<Figure size 432x288 with 1 Axes>"
      ]
     },
     "metadata": {
      "needs_background": "light"
     },
     "output_type": "display_data"
    }
   ],
   "source": [
    "test = corrigePulso(test, isTest = True)"
   ]
  },
  {
   "cell_type": "markdown",
   "id": "certified-carolina",
   "metadata": {
    "id": "mP8R-pAxwagT",
    "papermill": {
     "duration": 0.036315,
     "end_time": "2021-06-19T02:02:08.869337",
     "exception": false,
     "start_time": "2021-06-19T02:02:08.833022",
     "status": "completed"
    },
    "tags": []
   },
   "source": [
    "* Correção da variável Temperatura"
   ]
  },
  {
   "cell_type": "code",
   "execution_count": 11,
   "id": "moved-feedback",
   "metadata": {
    "execution": {
     "iopub.execute_input": "2021-06-19T02:02:08.945567Z",
     "iopub.status.busy": "2021-06-19T02:02:08.945073Z",
     "iopub.status.idle": "2021-06-19T02:02:09.128172Z",
     "shell.execute_reply": "2021-06-19T02:02:09.127682Z"
    },
    "id": "G1xg6_ZpwagT",
    "outputId": "a9f3e49e-e38a-4d84-c533-8486c82bc9eb",
    "papermill": {
     "duration": 0.222987,
     "end_time": "2021-06-19T02:02:09.128287",
     "exception": false,
     "start_time": "2021-06-19T02:02:08.905300",
     "status": "completed"
    },
    "tags": []
   },
   "outputs": [
    {
     "data": {
      "image/png": "[encoded data removed]",
      "text/plain": [
       "<Figure size 432x288 with 1 Axes>"
      ]
     },
     "metadata": {
      "needs_background": "light"
     },
     "output_type": "display_data"
    },
    {
     "data": {
      "image/png": "[encoded data removed]",
      "text/plain": [
       "<Figure size 432x288 with 1 Axes>"
      ]
     },
     "metadata": {
      "needs_background": "light"
     },
     "output_type": "display_data"
    }
   ],
   "source": [
    "test = corrigeTemperatura(test, isTest = True)"
   ]
  },
  {
   "cell_type": "markdown",
   "id": "deadly-witness",
   "metadata": {
    "id": "Usypj4HqwagU",
    "papermill": {
     "duration": 0.037402,
     "end_time": "2021-06-19T02:02:09.204030",
     "exception": false,
     "start_time": "2021-06-19T02:02:09.166628",
     "status": "completed"
    },
    "tags": []
   },
   "source": [
    "* Correção das variáveis de pressão arterial"
   ]
  },
  {
   "cell_type": "code",
   "execution_count": 12,
   "id": "driving-weekend",
   "metadata": {
    "execution": {
     "iopub.execute_input": "2021-06-19T02:02:09.295381Z",
     "iopub.status.busy": "2021-06-19T02:02:09.294894Z",
     "iopub.status.idle": "2021-06-19T02:02:09.644225Z",
     "shell.execute_reply": "2021-06-19T02:02:09.644605Z"
    },
    "id": "MN7puAcywagU",
    "outputId": "7b718c59-0298-4589-e966-b2783bf4da2e",
    "papermill": {
     "duration": 0.403447,
     "end_time": "2021-06-19T02:02:09.644741",
     "exception": false,
     "start_time": "2021-06-19T02:02:09.241294",
     "status": "completed"
    },
    "tags": []
   },
   "outputs": [
    {
     "data": {
      "image/png": "[encoded data removed]",
      "text/plain": [
       "<Figure size 432x288 with 1 Axes>"
      ]
     },
     "metadata": {
      "needs_background": "light"
     },
     "output_type": "display_data"
    },
    {
     "data": {
      "image/png": "[encoded data removed]",
      "text/plain": [
       "<Figure size 432x288 with 1 Axes>"
      ]
     },
     "metadata": {
      "needs_background": "light"
     },
     "output_type": "display_data"
    },
    {
     "data": {
      "image/png": "[encoded data removed]",
      "text/plain": [
       "<Figure size 432x288 with 1 Axes>"
      ]
     },
     "metadata": {
      "needs_background": "light"
     },
     "output_type": "display_data"
    },
    {
     "data": {
      "image/png": "[encoded data removed]",
      "text/plain": [
       "<Figure size 432x288 with 1 Axes>"
      ]
     },
     "metadata": {
      "needs_background": "light"
     },
     "output_type": "display_data"
    }
   ],
   "source": [
    "test = corrigePA(test, isTest = True)"
   ]
  },
  {
   "cell_type": "markdown",
   "id": "handed-kingston",
   "metadata": {
    "id": "vLDef_yywagU",
    "papermill": {
     "duration": 0.040705,
     "end_time": "2021-06-19T02:02:09.725784",
     "exception": false,
     "start_time": "2021-06-19T02:02:09.685079",
     "status": "completed"
    },
    "tags": []
   },
   "source": [
    "Vejemos agora a proporção de valores ausentes."
   ]
  },
  {
   "cell_type": "code",
   "execution_count": 13,
   "id": "palestinian-answer",
   "metadata": {
    "execution": {
     "iopub.execute_input": "2021-06-19T02:02:09.808448Z",
     "iopub.status.busy": "2021-06-19T02:02:09.807968Z",
     "iopub.status.idle": "2021-06-19T02:02:09.814865Z",
     "shell.execute_reply": "2021-06-19T02:02:09.815243Z"
    },
    "id": "ejdM9nqWwagV",
    "outputId": "93b1f969-a967-4c14-a253-717e69bcc5e8",
    "papermill": {
     "duration": 0.0496,
     "end_time": "2021-06-19T02:02:09.815387",
     "exception": false,
     "start_time": "2021-06-19T02:02:09.765787",
     "status": "completed"
    },
    "tags": []
   },
   "outputs": [
    {
     "data": {
      "text/plain": [
       "pa_max         0.500561\n",
       "pa_min         0.499616\n",
       "pulso          0.162251\n",
       "temperatura    0.138297\n",
       "id             0.000000\n",
       "num_atend      0.000000\n",
       "sepse          0.000000\n",
       "dtype: float64"
      ]
     },
     "execution_count": 13,
     "metadata": {},
     "output_type": "execute_result"
    }
   ],
   "source": [
    "dados.isnull().mean().sort_values(ascending = False)"
   ]
  },
  {
   "cell_type": "markdown",
   "id": "established-audit",
   "metadata": {
    "id": "sipYuQjBwagV",
    "papermill": {
     "duration": 0.039673,
     "end_time": "2021-06-19T02:02:09.895902",
     "exception": false,
     "start_time": "2021-06-19T02:02:09.856229",
     "status": "completed"
    },
    "tags": []
   },
   "source": [
    "Substituímos os valores ausentes pela mediana "
   ]
  },
  {
   "cell_type": "code",
   "execution_count": 14,
   "id": "worldwide-payroll",
   "metadata": {
    "execution": {
     "iopub.execute_input": "2021-06-19T02:02:09.981390Z",
     "iopub.status.busy": "2021-06-19T02:02:09.979067Z",
     "iopub.status.idle": "2021-06-19T02:02:09.984398Z",
     "shell.execute_reply": "2021-06-19T02:02:09.983971Z"
    },
    "id": "Jy_X2sV9wagV",
    "papermill": {
     "duration": 0.048307,
     "end_time": "2021-06-19T02:02:09.984509",
     "exception": false,
     "start_time": "2021-06-19T02:02:09.936202",
     "status": "completed"
    },
    "tags": []
   },
   "outputs": [],
   "source": [
    "def sub_na(df):\n",
    "    df['temperatura'].fillna(df['temperatura'].median(), inplace=True)\n",
    "    df['pulso'].fillna(df['pulso'].median(), inplace=True)\n",
    "    df['pa_min'].fillna(df['pa_min'].median(), inplace=True)\n",
    "    df['pa_max'].fillna(df['pa_max'].median(), inplace=True)\n",
    "    \n",
    "    return df"
   ]
  },
  {
   "cell_type": "code",
   "execution_count": 15,
   "id": "critical-determination",
   "metadata": {
    "execution": {
     "iopub.execute_input": "2021-06-19T02:02:10.071164Z",
     "iopub.status.busy": "2021-06-19T02:02:10.070632Z",
     "iopub.status.idle": "2021-06-19T02:02:10.086600Z",
     "shell.execute_reply": "2021-06-19T02:02:10.086180Z"
    },
    "id": "7vl6IZzWwagW",
    "outputId": "3fda99c1-25c5-401a-fd27-ee33f81725bd",
    "papermill": {
     "duration": 0.061436,
     "end_time": "2021-06-19T02:02:10.086706",
     "exception": false,
     "start_time": "2021-06-19T02:02:10.025270",
     "status": "completed"
    },
    "tags": []
   },
   "outputs": [
    {
     "data": {
      "text/plain": [
       "id             0.0\n",
       "num_atend      0.0\n",
       "temperatura    0.0\n",
       "pulso          0.0\n",
       "pa_min         0.0\n",
       "pa_max         0.0\n",
       "sepse          0.0\n",
       "dtype: float64"
      ]
     },
     "execution_count": 15,
     "metadata": {},
     "output_type": "execute_result"
    }
   ],
   "source": [
    "test = sub_na(test)\n",
    "dados = sub_na(dados)\n",
    "dados.isnull().mean().sort_values(ascending = False)"
   ]
  },
  {
   "cell_type": "code",
   "execution_count": 16,
   "id": "current-state",
   "metadata": {
    "execution": {
     "iopub.execute_input": "2021-06-19T02:02:10.175393Z",
     "iopub.status.busy": "2021-06-19T02:02:10.174910Z",
     "iopub.status.idle": "2021-06-19T02:02:10.177538Z",
     "shell.execute_reply": "2021-06-19T02:02:10.177987Z"
    },
    "id": "witO0N5EwagW",
    "papermill": {
     "duration": 0.050331,
     "end_time": "2021-06-19T02:02:10.178125",
     "exception": false,
     "start_time": "2021-06-19T02:02:10.127794",
     "status": "completed"
    },
    "tags": []
   },
   "outputs": [],
   "source": [
    "X = np.array(dados.loc[:, ['temperatura', 'pulso', 'pa_min', 'pa_max']])\n",
    "y = np.array(dados.loc[:, 'sepse'])"
   ]
  },
  {
   "cell_type": "markdown",
   "id": "korean-moldova",
   "metadata": {
    "id": "IkFYxJPX0ll7",
    "papermill": {
     "duration": 0.040699,
     "end_time": "2021-06-19T02:02:10.260657",
     "exception": false,
     "start_time": "2021-06-19T02:02:10.219958",
     "status": "completed"
    },
    "tags": []
   },
   "source": [
    "## Ajustes e validação dos modelos."
   ]
  },
  {
   "cell_type": "markdown",
   "id": "accredited-thumb",
   "metadata": {
    "id": "K4CKDkqAwagZ",
    "papermill": {
     "duration": 0.039847,
     "end_time": "2021-06-19T02:02:10.340861",
     "exception": false,
     "start_time": "2021-06-19T02:02:10.301014",
     "status": "completed"
    },
    "tags": []
   },
   "source": [
    "### Naive Bayes"
   ]
  },
  {
   "cell_type": "code",
   "execution_count": 17,
   "id": "chief-sixth",
   "metadata": {
    "execution": {
     "iopub.execute_input": "2021-06-19T02:02:10.427387Z",
     "iopub.status.busy": "2021-06-19T02:02:10.426881Z",
     "iopub.status.idle": "2021-06-19T02:02:11.809034Z",
     "shell.execute_reply": "2021-06-19T02:02:11.808567Z"
    },
    "id": "UR-ai_IywagZ",
    "outputId": "56b12e6e-dae0-462d-ed9c-9e0f93cd8986",
    "papermill": {
     "duration": 1.428072,
     "end_time": "2021-06-19T02:02:11.809156",
     "exception": false,
     "start_time": "2021-06-19T02:02:10.381084",
     "status": "completed"
    },
    "tags": []
   },
   "outputs": [
    {
     "name": "stdout",
     "output_type": "stream",
     "text": [
      "Acurácia média:  0.621680409328438 Desvio padrão acurácia:  0.014286938038976758\n"
     ]
    }
   ],
   "source": [
    "model = GaussianNB()\n",
    "cv = RepeatedStratifiedKFold(n_splits=10, n_repeats=5, random_state=7)\n",
    "scores = cross_val_score(model, X, y, scoring = 'balanced_accuracy', cv = cv, n_jobs=-1)\n",
    "print(\"Acurácia média: \", np.mean(scores),\"Desvio padrão acurácia: \" ,np.std(scores))"
   ]
  },
  {
   "cell_type": "markdown",
   "id": "floppy-seven",
   "metadata": {
    "id": "FxgKmNSKwaga",
    "papermill": {
     "duration": 0.051624,
     "end_time": "2021-06-19T02:02:11.901375",
     "exception": false,
     "start_time": "2021-06-19T02:02:11.849751",
     "status": "completed"
    },
    "tags": []
   },
   "source": [
    "### Ada boosting"
   ]
  },
  {
   "cell_type": "code",
   "execution_count": 18,
   "id": "infectious-bacon",
   "metadata": {
    "execution": {
     "iopub.execute_input": "2021-06-19T02:02:11.993904Z",
     "iopub.status.busy": "2021-06-19T02:02:11.993420Z",
     "iopub.status.idle": "2021-06-19T02:02:43.519251Z",
     "shell.execute_reply": "2021-06-19T02:02:43.519647Z"
    },
    "id": "T4XXrr7Pwaga",
    "outputId": "218153f3-5586-42f7-81ab-8d776b9e9bb4",
    "papermill": {
     "duration": 31.575994,
     "end_time": "2021-06-19T02:02:43.519776",
     "exception": false,
     "start_time": "2021-06-19T02:02:11.943782",
     "status": "completed"
    },
    "tags": []
   },
   "outputs": [
    {
     "name": "stdout",
     "output_type": "stream",
     "text": [
      "Melhores parâmetros: {'learning_rate': 1, 'n_estimators': 600}\n"
     ]
    }
   ],
   "source": [
    "# hiperparametros para ajustar\n",
    "param_grid = {\n",
    "    'n_estimators': [500,600],\n",
    "    'learning_rate': [0.1,1]\n",
    "}\n",
    "\n",
    "gs_ab = GridSearchCV(AdaBoostClassifier(), param_grid = param_grid, n_jobs=-1, scoring = \"balanced_accuracy\")\n",
    "gs_ab.fit(X,y)\n",
    "\n",
    "print('Melhores parâmetros:', gs_ab.best_params_)"
   ]
  },
  {
   "cell_type": "code",
   "execution_count": 19,
   "id": "raised-violence",
   "metadata": {
    "execution": {
     "iopub.execute_input": "2021-06-19T02:02:43.610370Z",
     "iopub.status.busy": "2021-06-19T02:02:43.609888Z",
     "iopub.status.idle": "2021-06-19T02:03:14.330726Z",
     "shell.execute_reply": "2021-06-19T02:03:14.331134Z"
    },
    "id": "OqOSIfjwwagb",
    "papermill": {
     "duration": 30.769137,
     "end_time": "2021-06-19T02:03:14.331279",
     "exception": false,
     "start_time": "2021-06-19T02:02:43.562142",
     "status": "completed"
    },
    "tags": []
   },
   "outputs": [
    {
     "name": "stdout",
     "output_type": "stream",
     "text": [
      "Acurácia média:  0.5929343975855006 Desvio padrão acurácia:  0.01312748996761386\n"
     ]
    }
   ],
   "source": [
    "model = AdaBoostClassifier(n_estimators=gs_ab.best_params_[\"n_estimators\"], learning_rate = gs_ab.best_params_[\"learning_rate\"], algorithm='SAMME')\n",
    "cv = RepeatedStratifiedKFold(n_splits=10, n_repeats=3, random_state=7)\n",
    "scores = cross_val_score(model, X, y, scoring='balanced_accuracy', cv=cv, n_jobs=-1)\n",
    "print(\"Acurácia média: \", np.mean(scores),\"Desvio padrão acurácia: \" ,np.std(scores))"
   ]
  },
  {
   "cell_type": "markdown",
   "id": "registered-wagon",
   "metadata": {
    "id": "7VX_m58Gwagb",
    "papermill": {
     "duration": 0.042261,
     "end_time": "2021-06-19T02:03:14.417711",
     "exception": false,
     "start_time": "2021-06-19T02:03:14.375450",
     "status": "completed"
    },
    "tags": []
   },
   "source": [
    "### XgBoost"
   ]
  },
  {
   "cell_type": "code",
   "execution_count": 20,
   "id": "similar-checkout",
   "metadata": {
    "execution": {
     "iopub.execute_input": "2021-06-19T02:03:14.509003Z",
     "iopub.status.busy": "2021-06-19T02:03:14.508488Z",
     "iopub.status.idle": "2021-06-19T02:37:00.884653Z",
     "shell.execute_reply": "2021-06-19T02:37:00.884133Z"
    },
    "id": "GGkuEeu0wagb",
    "outputId": "e6081a23-b2d1-43a4-996f-84cb354e07d4",
    "papermill": {
     "duration": 2026.425112,
     "end_time": "2021-06-19T02:37:00.884766",
     "exception": false,
     "start_time": "2021-06-19T02:03:14.459654",
     "status": "completed"
    },
    "tags": []
   },
   "outputs": [
    {
     "name": "stderr",
     "output_type": "stream",
     "text": [
      "/opt/conda/lib/python3.7/site-packages/xgboost/sklearn.py:1146: UserWarning: The use of label encoder in XGBClassifier is deprecated and will be removed in a future release. To remove this warning, do the following: 1) Pass option use_label_encoder=False when constructing XGBClassifier object; and 2) Encode your labels (y) as integers starting with 0, i.e. 0, 1, 2, ..., [num_class - 1].\n",
      "  warnings.warn(label_encoder_deprecation_msg, UserWarning)\n"
     ]
    },
    {
     "name": "stdout",
     "output_type": "stream",
     "text": [
      "[02:37:00] WARNING: ../src/learner.cc:1095: Starting in XGBoost 1.3.0, the default evaluation metric used with the objective 'binary:logistic' was changed from 'error' to 'logloss'. Explicitly set eval_metric if you'd like to restore the old behavior.\n",
      "Melhores parâmetros: {'colsample_bytree': 0.8, 'gamma': 0.5, 'max_depth': 5, 'min_child_weight': 1, 'subsample': 0.8}\n"
     ]
    }
   ],
   "source": [
    "# hiperparametros para ajustar\n",
    "param_grid = {\n",
    "        'min_child_weight': [1, 5],\n",
    "        'gamma': [0.5, 1],\n",
    "        'subsample': [0.6, 0.8],\n",
    "        'colsample_bytree': [0.6, 0.8],\n",
    "        'max_depth': [4, 5]\n",
    "        }\n",
    "\n",
    "gs_ab = GridSearchCV(XGBClassifier(), param_grid = param_grid, n_jobs=-1, scoring = \"balanced_accuracy\")\n",
    "\n",
    "gs_ab.fit(X,y)\n",
    "\n",
    "print('Melhores parâmetros:', gs_ab.best_params_)"
   ]
  },
  {
   "cell_type": "code",
   "execution_count": 21,
   "id": "automated-tattoo",
   "metadata": {
    "execution": {
     "iopub.execute_input": "2021-06-19T02:37:00.977783Z",
     "iopub.status.busy": "2021-06-19T02:37:00.977286Z",
     "iopub.status.idle": "2021-06-19T02:44:35.145947Z",
     "shell.execute_reply": "2021-06-19T02:44:35.146485Z"
    },
    "id": "KnPkj-Vn2W5f",
    "outputId": "93969cf8-ee38-4669-ac89-3b5a14dffdd3",
    "papermill": {
     "duration": 454.218745,
     "end_time": "2021-06-19T02:44:35.146645",
     "exception": false,
     "start_time": "2021-06-19T02:37:00.927900",
     "status": "completed"
    },
    "tags": []
   },
   "outputs": [
    {
     "name": "stdout",
     "output_type": "stream",
     "text": [
      "Acurácia média:  0.6462468588771311 Desvio padrão acurácia:  0.007787651852533425\n"
     ]
    }
   ],
   "source": [
    "model = XGBClassifier(colsample_bytree = gs_ab.best_params_['colsample_bytree'], gamma = gs_ab.best_params_['gamma'],\n",
    "                      max_depth = gs_ab.best_params_['max_depth'], min_child_weight= gs_ab.best_params_['min_child_weight'],  subsample = gs_ab.best_params_['subsample'] )\n",
    "\n",
    "cv = RepeatedStratifiedKFold(n_splits=10, n_repeats=3, random_state=7)\n",
    "scores = cross_val_score(model, X, y, scoring='balanced_accuracy', cv=cv, n_jobs=-1)\n",
    "print(\"Acurácia média: \", np.mean(scores),\"Desvio padrão acurácia: \" ,np.std(scores))"
   ]
  },
  {
   "cell_type": "markdown",
   "id": "loving-court",
   "metadata": {
    "id": "sR4At1g67yso",
    "papermill": {
     "duration": 0.064392,
     "end_time": "2021-06-19T02:44:35.274983",
     "exception": false,
     "start_time": "2021-06-19T02:44:35.210591",
     "status": "completed"
    },
    "tags": []
   },
   "source": [
    "Podemos observar então, que o modelo que obteve a maior acurácia balanceada foi o modelo XGBClassifier, portanto iremos utilizar ele para os próximos passos."
   ]
  },
  {
   "cell_type": "markdown",
   "id": "distributed-greenhouse",
   "metadata": {
    "id": "L4dUQ4opwagX",
    "papermill": {
     "duration": 0.063595,
     "end_time": "2021-06-19T02:44:35.404283",
     "exception": false,
     "start_time": "2021-06-19T02:44:35.340688",
     "status": "completed"
    },
    "tags": []
   },
   "source": [
    "## Achando a melhor probabilidade de corte."
   ]
  },
  {
   "cell_type": "markdown",
   "id": "interstate-taste",
   "metadata": {
    "id": "9kAVzqD-2oGM",
    "papermill": {
     "duration": 0.063666,
     "end_time": "2021-06-19T02:44:35.531807",
     "exception": false,
     "start_time": "2021-06-19T02:44:35.468141",
     "status": "completed"
    },
    "tags": []
   },
   "source": [
    "Como temos um desbalanceamento consideranvelmente grande em relação as observações das classes, uma boa técnica que promete melhorar a performace do nosso modelo é encontrar a probabilidade de corte que maximiza a nossa métrica de validação escolhida. Para isso, vamos utilizar a curva ROC."
   ]
  },
  {
   "cell_type": "markdown",
   "id": "possible-uncertainty",
   "metadata": {
    "id": "VI-p1n2hzD3q",
    "papermill": {
     "duration": 0.12789,
     "end_time": "2021-06-19T02:44:35.723689",
     "exception": false,
     "start_time": "2021-06-19T02:44:35.595799",
     "status": "completed"
    },
    "tags": []
   },
   "source": [
    "- Função para encontrar o threshold ideal para classificação binária:\n",
    "     * modelo: um objeto de modelo treinado (como xgboost, glmnet, ...)\n",
    "     *X: o conjunto de teste (pandas dataframe ou numpy array)\n",
    "     *y_true: os rótulos verdadeiros da classe (lista ou matriz de 0's e 1's)"
   ]
  },
  {
   "cell_type": "code",
   "execution_count": 22,
   "id": "confirmed-identity",
   "metadata": {
    "execution": {
     "iopub.execute_input": "2021-06-19T02:44:35.858298Z",
     "iopub.status.busy": "2021-06-19T02:44:35.857627Z",
     "iopub.status.idle": "2021-06-19T02:44:35.859107Z",
     "shell.execute_reply": "2021-06-19T02:44:35.859608Z"
    },
    "id": "jWhtdWRhwagX",
    "papermill": {
     "duration": 0.071502,
     "end_time": "2021-06-19T02:44:35.859764",
     "exception": false,
     "start_time": "2021-06-19T02:44:35.788262",
     "status": "completed"
    },
    "tags": []
   },
   "outputs": [],
   "source": [
    "def _threshold_finder(model, X, y_true):\n",
    "      \n",
    "    y_predict_proba = model.predict_proba(X)[:, 1]\n",
    "    fpr, tpr, thresholds = roc_curve(y_true, y_predict_proba)\n",
    "    youden_idx = np.argmax(np.abs(tpr - fpr))\n",
    "    youden_threshold = thresholds[youden_idx]\n",
    "    plt.plot(fpr,tpr)\n",
    "    plt.ylabel('True Positive Rate')\n",
    "    plt.xlabel('False Positive Rate')\n",
    "    plt.show()\n",
    "    return youden_threshold"
   ]
  },
  {
   "cell_type": "markdown",
   "id": "popular-principal",
   "metadata": {
    "id": "DsOE_tEF4dMz",
    "papermill": {
     "duration": 0.075938,
     "end_time": "2021-06-19T02:44:36.012484",
     "exception": false,
     "start_time": "2021-06-19T02:44:35.936546",
     "status": "completed"
    },
    "tags": []
   },
   "source": [
    "Vamos então agora separar nossos dados em treino e teste para realizar o cálculo da melhor probabilidade de corte."
   ]
  },
  {
   "cell_type": "code",
   "execution_count": 23,
   "id": "ideal-miller",
   "metadata": {
    "execution": {
     "iopub.execute_input": "2021-06-19T02:44:36.149647Z",
     "iopub.status.busy": "2021-06-19T02:44:36.149017Z",
     "iopub.status.idle": "2021-06-19T02:44:36.159805Z",
     "shell.execute_reply": "2021-06-19T02:44:36.160348Z"
    },
    "id": "lw7H8zoNwagY",
    "papermill": {
     "duration": 0.080909,
     "end_time": "2021-06-19T02:44:36.160531",
     "exception": false,
     "start_time": "2021-06-19T02:44:36.079622",
     "status": "completed"
    },
    "tags": []
   },
   "outputs": [],
   "source": [
    "X_train, X_test, y_train, y_test = train_test_split(X, y, test_size = 0.20, shuffle = True, random_state = 1367, stratify = y)"
   ]
  },
  {
   "cell_type": "code",
   "execution_count": 24,
   "id": "basic-clarity",
   "metadata": {
    "execution": {
     "iopub.execute_input": "2021-06-19T02:44:36.269503Z",
     "iopub.status.busy": "2021-06-19T02:44:36.268699Z",
     "iopub.status.idle": "2021-06-19T02:44:36.939298Z",
     "shell.execute_reply": "2021-06-19T02:44:36.939793Z"
    },
    "id": "fUr-TiOl5ZrZ",
    "papermill": {
     "duration": 0.725974,
     "end_time": "2021-06-19T02:44:36.939985",
     "exception": false,
     "start_time": "2021-06-19T02:44:36.214011",
     "status": "completed"
    },
    "tags": []
   },
   "outputs": [
    {
     "name": "stderr",
     "output_type": "stream",
     "text": [
      "/opt/conda/lib/python3.7/site-packages/xgboost/sklearn.py:1146: UserWarning: The use of label encoder in XGBClassifier is deprecated and will be removed in a future release. To remove this warning, do the following: 1) Pass option use_label_encoder=False when constructing XGBClassifier object; and 2) Encode your labels (y) as integers starting with 0, i.e. 0, 1, 2, ..., [num_class - 1].\n",
      "  warnings.warn(label_encoder_deprecation_msg, UserWarning)\n"
     ]
    },
    {
     "name": "stdout",
     "output_type": "stream",
     "text": [
      "[02:44:36] WARNING: ../src/learner.cc:1095: Starting in XGBoost 1.3.0, the default evaluation metric used with the objective 'binary:logistic' was changed from 'error' to 'logloss'. Explicitly set eval_metric if you'd like to restore the old behavior.\n"
     ]
    }
   ],
   "source": [
    "fitted_model = XGBClassifier(colsample_bytree = gs_ab.best_params_['colsample_bytree'], gamma = gs_ab.best_params_['gamma'],\n",
    "                      max_depth = gs_ab.best_params_['max_depth'], \n",
    "                             min_child_weight= gs_ab.best_params_['min_child_weight'],  \n",
    "                             subsample = gs_ab.best_params_['subsample'] ).fit(X_train,y_train)"
   ]
  },
  {
   "cell_type": "code",
   "execution_count": 25,
   "id": "egyptian-genealogy",
   "metadata": {
    "execution": {
     "iopub.execute_input": "2021-06-19T02:44:37.073618Z",
     "iopub.status.busy": "2021-06-19T02:44:37.072986Z",
     "iopub.status.idle": "2021-06-19T02:44:37.186737Z",
     "shell.execute_reply": "2021-06-19T02:44:37.187268Z"
    },
    "id": "djFkiifYwagY",
    "outputId": "95f6480b-2ed7-4e10-fd7d-ffa5060e56af",
    "papermill": {
     "duration": 0.182916,
     "end_time": "2021-06-19T02:44:37.187428",
     "exception": false,
     "start_time": "2021-06-19T02:44:37.004512",
     "status": "completed"
    },
    "tags": []
   },
   "outputs": [
    {
     "data": {
      "image/png": "[encoded data removed]",
      "text/plain": [
       "<Figure size 432x288 with 1 Axes>"
      ]
     },
     "metadata": {
      "needs_background": "light"
     },
     "output_type": "display_data"
    },
    {
     "name": "stdout",
     "output_type": "stream",
     "text": [
      "Temos então, que a melhor probabilidade de corte para o nosso problema é :  0.12365853 E abaixo temos também a curva ROC\n"
     ]
    }
   ],
   "source": [
    "best_treshold = _threshold_finder(model = fitted_model, X = X_test, y_true = y_test)\n",
    "print(\"Temos então, que a melhor probabilidade de corte para o nosso problema é : \",best_treshold,\"E abaixo temos também a curva ROC\")"
   ]
  },
  {
   "cell_type": "code",
   "execution_count": 26,
   "id": "considered-making",
   "metadata": {
    "execution": {
     "iopub.execute_input": "2021-06-19T02:44:37.328597Z",
     "iopub.status.busy": "2021-06-19T02:44:37.327930Z",
     "iopub.status.idle": "2021-06-19T02:44:40.789058Z",
     "shell.execute_reply": "2021-06-19T02:44:40.789616Z"
    },
    "id": "qXIVyOgIwagc",
    "outputId": "f1eaefd1-8476-46c8-9035-43a59e2b95e8",
    "papermill": {
     "duration": 3.535924,
     "end_time": "2021-06-19T02:44:40.789786",
     "exception": false,
     "start_time": "2021-06-19T02:44:37.253862",
     "status": "completed"
    },
    "tags": []
   },
   "outputs": [
    {
     "name": "stdout",
     "output_type": "stream",
     "text": [
      "[02:44:37] WARNING: ../src/learner.cc:1095: Starting in XGBoost 1.3.0, the default evaluation metric used with the objective 'binary:logistic' was changed from 'error' to 'logloss'. Explicitly set eval_metric if you'd like to restore the old behavior.\n"
     ]
    },
    {
     "name": "stderr",
     "output_type": "stream",
     "text": [
      "/opt/conda/lib/python3.7/site-packages/xgboost/sklearn.py:1146: UserWarning: The use of label encoder in XGBClassifier is deprecated and will be removed in a future release. To remove this warning, do the following: 1) Pass option use_label_encoder=False when constructing XGBClassifier object; and 2) Encode your labels (y) as integers starting with 0, i.e. 0, 1, 2, ..., [num_class - 1].\n",
      "  warnings.warn(label_encoder_deprecation_msg, UserWarning)\n"
     ]
    },
    {
     "name": "stdout",
     "output_type": "stream",
     "text": [
      ".[02:44:37] WARNING: ../src/learner.cc:1095: Starting in XGBoost 1.3.0, the default evaluation metric used with the objective 'binary:logistic' was changed from 'error' to 'logloss'. Explicitly set eval_metric if you'd like to restore the old behavior.\n"
     ]
    },
    {
     "name": "stderr",
     "output_type": "stream",
     "text": [
      "/opt/conda/lib/python3.7/site-packages/xgboost/sklearn.py:1146: UserWarning: The use of label encoder in XGBClassifier is deprecated and will be removed in a future release. To remove this warning, do the following: 1) Pass option use_label_encoder=False when constructing XGBClassifier object; and 2) Encode your labels (y) as integers starting with 0, i.e. 0, 1, 2, ..., [num_class - 1].\n",
      "  warnings.warn(label_encoder_deprecation_msg, UserWarning)\n"
     ]
    },
    {
     "name": "stdout",
     "output_type": "stream",
     "text": [
      ".[02:44:38] WARNING: ../src/learner.cc:1095: Starting in XGBoost 1.3.0, the default evaluation metric used with the objective 'binary:logistic' was changed from 'error' to 'logloss'. Explicitly set eval_metric if you'd like to restore the old behavior.\n"
     ]
    },
    {
     "name": "stderr",
     "output_type": "stream",
     "text": [
      "/opt/conda/lib/python3.7/site-packages/xgboost/sklearn.py:1146: UserWarning: The use of label encoder in XGBClassifier is deprecated and will be removed in a future release. To remove this warning, do the following: 1) Pass option use_label_encoder=False when constructing XGBClassifier object; and 2) Encode your labels (y) as integers starting with 0, i.e. 0, 1, 2, ..., [num_class - 1].\n",
      "  warnings.warn(label_encoder_deprecation_msg, UserWarning)\n"
     ]
    },
    {
     "name": "stdout",
     "output_type": "stream",
     "text": [
      ".[02:44:38] WARNING: ../src/learner.cc:1095: Starting in XGBoost 1.3.0, the default evaluation metric used with the objective 'binary:logistic' was changed from 'error' to 'logloss'. Explicitly set eval_metric if you'd like to restore the old behavior.\n"
     ]
    },
    {
     "name": "stderr",
     "output_type": "stream",
     "text": [
      "/opt/conda/lib/python3.7/site-packages/xgboost/sklearn.py:1146: UserWarning: The use of label encoder in XGBClassifier is deprecated and will be removed in a future release. To remove this warning, do the following: 1) Pass option use_label_encoder=False when constructing XGBClassifier object; and 2) Encode your labels (y) as integers starting with 0, i.e. 0, 1, 2, ..., [num_class - 1].\n",
      "  warnings.warn(label_encoder_deprecation_msg, UserWarning)\n"
     ]
    },
    {
     "name": "stdout",
     "output_type": "stream",
     "text": [
      ".[02:44:38] WARNING: ../src/learner.cc:1095: Starting in XGBoost 1.3.0, the default evaluation metric used with the objective 'binary:logistic' was changed from 'error' to 'logloss'. Explicitly set eval_metric if you'd like to restore the old behavior.\n"
     ]
    },
    {
     "name": "stderr",
     "output_type": "stream",
     "text": [
      "/opt/conda/lib/python3.7/site-packages/xgboost/sklearn.py:1146: UserWarning: The use of label encoder in XGBClassifier is deprecated and will be removed in a future release. To remove this warning, do the following: 1) Pass option use_label_encoder=False when constructing XGBClassifier object; and 2) Encode your labels (y) as integers starting with 0, i.e. 0, 1, 2, ..., [num_class - 1].\n",
      "  warnings.warn(label_encoder_deprecation_msg, UserWarning)\n"
     ]
    },
    {
     "name": "stdout",
     "output_type": "stream",
     "text": [
      ".[02:44:39] WARNING: ../src/learner.cc:1095: Starting in XGBoost 1.3.0, the default evaluation metric used with the objective 'binary:logistic' was changed from 'error' to 'logloss'. Explicitly set eval_metric if you'd like to restore the old behavior.\n"
     ]
    },
    {
     "name": "stderr",
     "output_type": "stream",
     "text": [
      "/opt/conda/lib/python3.7/site-packages/xgboost/sklearn.py:1146: UserWarning: The use of label encoder in XGBClassifier is deprecated and will be removed in a future release. To remove this warning, do the following: 1) Pass option use_label_encoder=False when constructing XGBClassifier object; and 2) Encode your labels (y) as integers starting with 0, i.e. 0, 1, 2, ..., [num_class - 1].\n",
      "  warnings.warn(label_encoder_deprecation_msg, UserWarning)\n"
     ]
    },
    {
     "name": "stdout",
     "output_type": "stream",
     "text": [
      ".[02:44:39] WARNING: ../src/learner.cc:1095: Starting in XGBoost 1.3.0, the default evaluation metric used with the objective 'binary:logistic' was changed from 'error' to 'logloss'. Explicitly set eval_metric if you'd like to restore the old behavior.\n"
     ]
    },
    {
     "name": "stderr",
     "output_type": "stream",
     "text": [
      "/opt/conda/lib/python3.7/site-packages/xgboost/sklearn.py:1146: UserWarning: The use of label encoder in XGBClassifier is deprecated and will be removed in a future release. To remove this warning, do the following: 1) Pass option use_label_encoder=False when constructing XGBClassifier object; and 2) Encode your labels (y) as integers starting with 0, i.e. 0, 1, 2, ..., [num_class - 1].\n",
      "  warnings.warn(label_encoder_deprecation_msg, UserWarning)\n"
     ]
    },
    {
     "name": "stdout",
     "output_type": "stream",
     "text": [
      ".[02:44:39] WARNING: ../src/learner.cc:1095: Starting in XGBoost 1.3.0, the default evaluation metric used with the objective 'binary:logistic' was changed from 'error' to 'logloss'. Explicitly set eval_metric if you'd like to restore the old behavior.\n"
     ]
    },
    {
     "name": "stderr",
     "output_type": "stream",
     "text": [
      "/opt/conda/lib/python3.7/site-packages/xgboost/sklearn.py:1146: UserWarning: The use of label encoder in XGBClassifier is deprecated and will be removed in a future release. To remove this warning, do the following: 1) Pass option use_label_encoder=False when constructing XGBClassifier object; and 2) Encode your labels (y) as integers starting with 0, i.e. 0, 1, 2, ..., [num_class - 1].\n",
      "  warnings.warn(label_encoder_deprecation_msg, UserWarning)\n"
     ]
    },
    {
     "name": "stdout",
     "output_type": "stream",
     "text": [
      ".[02:44:40] WARNING: ../src/learner.cc:1095: Starting in XGBoost 1.3.0, the default evaluation metric used with the objective 'binary:logistic' was changed from 'error' to 'logloss'. Explicitly set eval_metric if you'd like to restore the old behavior.\n"
     ]
    },
    {
     "name": "stderr",
     "output_type": "stream",
     "text": [
      "/opt/conda/lib/python3.7/site-packages/xgboost/sklearn.py:1146: UserWarning: The use of label encoder in XGBClassifier is deprecated and will be removed in a future release. To remove this warning, do the following: 1) Pass option use_label_encoder=False when constructing XGBClassifier object; and 2) Encode your labels (y) as integers starting with 0, i.e. 0, 1, 2, ..., [num_class - 1].\n",
      "  warnings.warn(label_encoder_deprecation_msg, UserWarning)\n"
     ]
    },
    {
     "name": "stdout",
     "output_type": "stream",
     "text": [
      ".[02:44:40] WARNING: ../src/learner.cc:1095: Starting in XGBoost 1.3.0, the default evaluation metric used with the objective 'binary:logistic' was changed from 'error' to 'logloss'. Explicitly set eval_metric if you'd like to restore the old behavior.\n"
     ]
    },
    {
     "name": "stderr",
     "output_type": "stream",
     "text": [
      "/opt/conda/lib/python3.7/site-packages/xgboost/sklearn.py:1146: UserWarning: The use of label encoder in XGBClassifier is deprecated and will be removed in a future release. To remove this warning, do the following: 1) Pass option use_label_encoder=False when constructing XGBClassifier object; and 2) Encode your labels (y) as integers starting with 0, i.e. 0, 1, 2, ..., [num_class - 1].\n",
      "  warnings.warn(label_encoder_deprecation_msg, UserWarning)\n"
     ]
    },
    {
     "name": "stdout",
     "output_type": "stream",
     "text": [
      ".\n",
      "\n",
      "Acurácia média:  0.8181298617148297 Desvio padrão acurpacia:  0.024314683522831733\n"
     ]
    }
   ],
   "source": [
    "model = XGBClassifier(colsample_bytree = gs_ab.best_params_['colsample_bytree'], gamma = gs_ab.best_params_['gamma'],\n",
    "                      max_depth = gs_ab.best_params_['max_depth'], \n",
    "                             min_child_weight= gs_ab.best_params_['min_child_weight'],  \n",
    "                             subsample = gs_ab.best_params_['subsample'])\n",
    "\n",
    "cv = StratifiedKFold(n_splits=10)\n",
    "acc = list()\n",
    "for train_i, test_i in cv.split(X,y):\n",
    "    train_x, train_y = X[train_i], y[train_i]\n",
    "    test_x, test_y = X[test_i], y[test_i]\n",
    "    model.fit(train_x,train_y)\n",
    "    predicted_proba = model.predict_proba(test_x)\n",
    "    pred_y = (predicted_proba [:,1] >= best_treshold).astype('int')        \n",
    "    # evaluate and store the results\n",
    "    acc.append(balanced_accuracy_score(y_true = test_y, y_pred = pred_y))\n",
    "        \n",
    "    print('.',end=\"\")\n",
    "print('\\n')\n",
    "av_acc = np.mean(acc)\n",
    "std_acc = np.std(acc)\n",
    "print('Acurácia média: ',av_acc,'Desvio padrão acurpacia: ',std_acc)"
   ]
  },
  {
   "cell_type": "code",
   "execution_count": 27,
   "id": "loaded-advertising",
   "metadata": {
    "execution": {
     "iopub.execute_input": "2021-06-19T02:44:40.946763Z",
     "iopub.status.busy": "2021-06-19T02:44:40.946142Z",
     "iopub.status.idle": "2021-06-19T02:44:41.339258Z",
     "shell.execute_reply": "2021-06-19T02:44:41.338676Z"
    },
    "id": "tVZr19W4-atS",
    "papermill": {
     "duration": 0.474698,
     "end_time": "2021-06-19T02:44:41.339389",
     "exception": false,
     "start_time": "2021-06-19T02:44:40.864691",
     "status": "completed"
    },
    "tags": []
   },
   "outputs": [
    {
     "name": "stdout",
     "output_type": "stream",
     "text": [
      "[02:44:40] WARNING: ../src/learner.cc:1095: Starting in XGBoost 1.3.0, the default evaluation metric used with the objective 'binary:logistic' was changed from 'error' to 'logloss'. Explicitly set eval_metric if you'd like to restore the old behavior.\n"
     ]
    },
    {
     "name": "stderr",
     "output_type": "stream",
     "text": [
      "/opt/conda/lib/python3.7/site-packages/xgboost/sklearn.py:1146: UserWarning: The use of label encoder in XGBClassifier is deprecated and will be removed in a future release. To remove this warning, do the following: 1) Pass option use_label_encoder=False when constructing XGBClassifier object; and 2) Encode your labels (y) as integers starting with 0, i.e. 0, 1, 2, ..., [num_class - 1].\n",
      "  warnings.warn(label_encoder_deprecation_msg, UserWarning)\n",
      "/opt/conda/lib/python3.7/site-packages/xgboost/data.py:114: UserWarning: Use subset (sliced data) of np.ndarray is not recommended because it will generate extra copies and increase memory consumption\n",
      "  \"because it will generate extra copies and increase \" +\n"
     ]
    }
   ],
   "source": [
    "#Submissão Kaggle\n",
    "#OBS: Como para a competição do Kaggle está sendo avaliada a acurácia não balanceada, \n",
    "#vamos predizer o modelo com a probabilidade de corte padrão, porém, salientamos que para nosso problema, uma probabilidade de corte ótima é a melhor solução.\n",
    "\n",
    "X_test = np.array(test.loc[:, ['temperatura', 'pulso', 'pa_min', 'pa_max']])\n",
    "\n",
    "model = XGBClassifier(colsample_bytree = gs_ab.best_params_['colsample_bytree'], gamma = gs_ab.best_params_['gamma'],\n",
    "                      max_depth = gs_ab.best_params_['max_depth'], min_child_weight= gs_ab.best_params_['min_child_weight'],  subsample = gs_ab.best_params_['subsample'] )\n",
    "model.fit(X,y)\n",
    "y_pred = model.predict(X_test) \n",
    "sub = pd.DataFrame(data = {'id':test.loc[:, \"id\"], 'sepse':y_pred})\n",
    "sub.to_csv('submission_XGB2.csv',index=False)"
   ]
  },
  {
   "cell_type": "markdown",
   "id": "cross-newman",
   "metadata": {
    "id": "e9gvLf-aBuEq",
    "papermill": {
     "duration": 0.075376,
     "end_time": "2021-06-19T02:44:41.490316",
     "exception": false,
     "start_time": "2021-06-19T02:44:41.414940",
     "status": "completed"
    },
    "tags": []
   },
   "source": [
    "# Conclusão\n",
    "\n",
    "A sepse é uma enfermidade perigosa e evolui rapidamente se não tratada a tempo. Em geral, o diagnóstico é clínico e laboratorial, com exames de sangue para contagem de leucócitos. Entretanto, esses exames não são rápidos, o que pode deixar o quadro do paciente evoluir rapidamente. Assim, é essential monitorar os sinais vitais de pacientes para identificar aqueles com possível quadro de sepse.\n",
    "\n",
    "Nesta task, tivemos o desafio de desenvolver um modelo de classificação para identificar pacientes com sepse com base em seus sinais vitais. Se tivéssemos que implementar esse modelo em um hospital, daríamos como resposta a probabilidade do paciente estar com sepse. Em outras palavras, daríamos o grau de confiança do modelo na classificação de pacientes com sepse. Com base na curva ROC do melhor modelo e o tipo da enfermidade, definimos as seguintes faixas:\n",
    "\n",
    "* verde: Probabilidade do paciente estar com sepse entre 0 e 5%. Neste caso, o modelo tem um elevado nível de confiança de que o paciente está com sinais vitais normais, ou seja, com baixo risco de estar com sepse;\n",
    "\n",
    "* amarelo: probabilidade do paciente estar com sepse entre 5 e 30% (menor confiança do modelo). Nesta faixa, os sinais vitais do paciente exige atenção, pois pode estar no início de um quadro de sepse. Recomendamos monitorar os dados vitais do paciente com frequência mais alta ou realizar outros exames clínicos ou laboratoriais;\n",
    "\n",
    "* vermelho: probabilidade do paciente estar com sepse acima de 30%. Neste caso, o paciente tem grandes chances de estar com sepse e requer outros exames para confirmação, além de cuidados apropriados para esta enfermidade.\n",
    "\n",
    "Acreditamos que, com essas cores, a equipe do hospital pode triar os pacientes de forma objetiva e rápida a partir dos dados vitais dos pacientes, otimizando o tempo e tratamento daqueles que mais precisarem."
   ]
  },
  {
   "cell_type": "markdown",
   "id": "sexual-passport",
   "metadata": {
    "id": "eaREOlXTF2Om",
    "papermill": {
     "duration": 0.075078,
     "end_time": "2021-06-19T02:44:41.641070",
     "exception": false,
     "start_time": "2021-06-19T02:44:41.565992",
     "status": "completed"
    },
    "tags": []
   },
   "source": [
    "Assim, baseando-se nesse raciocínio, o conjunto de teste que temos ficaria:"
   ]
  },
  {
   "cell_type": "code",
   "execution_count": 28,
   "id": "designing-reality",
   "metadata": {
    "execution": {
     "iopub.execute_input": "2021-06-19T02:44:41.798607Z",
     "iopub.status.busy": "2021-06-19T02:44:41.797781Z",
     "iopub.status.idle": "2021-06-19T02:44:42.869023Z",
     "shell.execute_reply": "2021-06-19T02:44:42.868406Z"
    },
    "id": "8jb9HSgjGB6m",
    "outputId": "ea2b282c-6219-4564-c0a8-0821c301d242",
    "papermill": {
     "duration": 1.152822,
     "end_time": "2021-06-19T02:44:42.869161",
     "exception": false,
     "start_time": "2021-06-19T02:44:41.716339",
     "status": "completed"
    },
    "tags": []
   },
   "outputs": [
    {
     "name": "stdout",
     "output_type": "stream",
     "text": [
      "Paciente: 1 Probabilidade: 0.7 vermelho\n",
      "Paciente: 2 Probabilidade: 0.404 vermelho\n",
      "Paciente: 3 Probabilidade: 0.353 vermelho\n",
      "Paciente: 4 Probabilidade: 0.628 vermelho\n",
      "Paciente: 5 Probabilidade: 0.505 vermelho\n",
      "Paciente: 6 Probabilidade: 0.7 vermelho\n",
      "Paciente: 7 Probabilidade: 0.505 vermelho\n",
      "Paciente: 8 Probabilidade: 0.7 vermelho\n",
      "Paciente: 9 Probabilidade: 0.404 vermelho\n",
      "Paciente: 10 Probabilidade: 0.62 vermelho\n",
      "Paciente: 11 Probabilidade: 0.628 vermelho\n",
      "Paciente: 12 Probabilidade: 0.7 vermelho\n",
      "Paciente: 13 Probabilidade: 0.352 vermelho\n",
      "Paciente: 14 Probabilidade: 0.019 verde\n",
      "Paciente: 15 Probabilidade: 0.7 vermelho\n",
      "Paciente: 16 Probabilidade: 0.268 amarelo\n",
      "Paciente: 17 Probabilidade: 0.552 vermelho\n",
      "Paciente: 18 Probabilidade: 0.505 vermelho\n",
      "Paciente: 19 Probabilidade: 0.858 vermelho\n",
      "Paciente: 20 Probabilidade: 0.449 vermelho\n",
      "Paciente: 21 Probabilidade: 0.413 vermelho\n",
      "Paciente: 22 Probabilidade: 0.628 vermelho\n",
      "Paciente: 23 Probabilidade: 0.645 vermelho\n",
      "Paciente: 24 Probabilidade: 0.404 vermelho\n",
      "Paciente: 25 Probabilidade: 0.398 vermelho\n",
      "Paciente: 26 Probabilidade: 0.398 vermelho\n",
      "Paciente: 27 Probabilidade: 0.376 vermelho\n",
      "Paciente: 28 Probabilidade: 0.628 vermelho\n",
      "Paciente: 29 Probabilidade: 0.344 vermelho\n",
      "Paciente: 30 Probabilidade: 0.735 vermelho\n",
      "Paciente: 31 Probabilidade: 0.258 amarelo\n",
      "Paciente: 32 Probabilidade: 0.696 vermelho\n",
      "Paciente: 33 Probabilidade: 0.701 vermelho\n",
      "Paciente: 34 Probabilidade: 0.329 vermelho\n",
      "Paciente: 35 Probabilidade: 0.74 vermelho\n",
      "Paciente: 36 Probabilidade: 0.505 vermelho\n",
      "Paciente: 37 Probabilidade: 0.505 vermelho\n",
      "Paciente: 38 Probabilidade: 0.449 vermelho\n",
      "Paciente: 39 Probabilidade: 0.352 vermelho\n",
      "Paciente: 40 Probabilidade: 0.735 vermelho\n",
      "Paciente: 41 Probabilidade: 0.505 vermelho\n",
      "Paciente: 42 Probabilidade: 0.628 vermelho\n",
      "Paciente: 43 Probabilidade: 0.701 vermelho\n",
      "Paciente: 44 Probabilidade: 0.628 vermelho\n",
      "Paciente: 45 Probabilidade: 0.24 amarelo\n",
      "Paciente: 46 Probabilidade: 0.7 vermelho\n",
      "Paciente: 47 Probabilidade: 0.645 vermelho\n",
      "Paciente: 48 Probabilidade: 0.7 vermelho\n",
      "Paciente: 49 Probabilidade: 0.449 vermelho\n",
      "Paciente: 50 Probabilidade: 0.664 vermelho\n",
      "Paciente: 51 Probabilidade: 0.7 vermelho\n",
      "Paciente: 52 Probabilidade: 0.7 vermelho\n",
      "Paciente: 53 Probabilidade: 0.62 vermelho\n",
      "Paciente: 54 Probabilidade: 0.449 vermelho\n",
      "Paciente: 55 Probabilidade: 0.746 vermelho\n",
      "Paciente: 56 Probabilidade: 0.415 vermelho\n",
      "Paciente: 57 Probabilidade: 0.628 vermelho\n",
      "Paciente: 58 Probabilidade: 0.226 amarelo\n",
      "Paciente: 59 Probabilidade: 0.628 vermelho\n",
      "Paciente: 60 Probabilidade: 0.62 vermelho\n",
      "Paciente: 61 Probabilidade: 0.664 vermelho\n",
      "Paciente: 62 Probabilidade: 0.434 vermelho\n",
      "Paciente: 63 Probabilidade: 0.839 vermelho\n",
      "Paciente: 64 Probabilidade: 0.494 vermelho\n",
      "Paciente: 65 Probabilidade: 0.735 vermelho\n",
      "Paciente: 66 Probabilidade: 0.349 vermelho\n",
      "Paciente: 67 Probabilidade: 0.449 vermelho\n",
      "Paciente: 68 Probabilidade: 0.349 vermelho\n",
      "Paciente: 69 Probabilidade: 0.74 vermelho\n",
      "Paciente: 70 Probabilidade: 0.74 vermelho\n",
      "Paciente: 71 Probabilidade: 0.298 amarelo\n",
      "Paciente: 72 Probabilidade: 0.449 vermelho\n",
      "Paciente: 73 Probabilidade: 0.35 vermelho\n",
      "Paciente: 74 Probabilidade: 0.628 vermelho\n",
      "Paciente: 75 Probabilidade: 0.024 verde\n",
      "Paciente: 76 Probabilidade: 0.449 vermelho\n",
      "Paciente: 77 Probabilidade: 0.133 amarelo\n",
      "Paciente: 78 Probabilidade: 0.156 amarelo\n",
      "Paciente: 79 Probabilidade: 0.566 vermelho\n",
      "Paciente: 80 Probabilidade: 0.628 vermelho\n",
      "Paciente: 81 Probabilidade: 0.62 vermelho\n",
      "Paciente: 82 Probabilidade: 0.287 amarelo\n",
      "Paciente: 83 Probabilidade: 0.405 vermelho\n",
      "Paciente: 84 Probabilidade: 0.127 amarelo\n",
      "Paciente: 85 Probabilidade: 0.74 vermelho\n",
      "Paciente: 86 Probabilidade: 0.18 amarelo\n",
      "Paciente: 87 Probabilidade: 0.74 vermelho\n",
      "Paciente: 88 Probabilidade: 0.236 amarelo\n",
      "Paciente: 89 Probabilidade: 0.176 amarelo\n",
      "Paciente: 90 Probabilidade: 0.226 amarelo\n",
      "Paciente: 91 Probabilidade: 0.531 vermelho\n",
      "Paciente: 92 Probabilidade: 0.349 vermelho\n",
      "Paciente: 93 Probabilidade: 0.1 amarelo\n",
      "Paciente: 94 Probabilidade: 0.664 vermelho\n",
      "Paciente: 95 Probabilidade: 0.735 vermelho\n",
      "Paciente: 96 Probabilidade: 0.642 vermelho\n",
      "Paciente: 97 Probabilidade: 0.242 amarelo\n",
      "Paciente: 98 Probabilidade: 0.628 vermelho\n",
      "Paciente: 99 Probabilidade: 0.74 vermelho\n",
      "Paciente: 100 Probabilidade: 0.273 amarelo\n",
      "Paciente: 101 Probabilidade: 0.024 verde\n",
      "Paciente: 102 Probabilidade: 0.214 amarelo\n",
      "Paciente: 103 Probabilidade: 0.47 vermelho\n",
      "Paciente: 104 Probabilidade: 0.62 vermelho\n",
      "Paciente: 105 Probabilidade: 0.449 vermelho\n",
      "Paciente: 106 Probabilidade: 0.7 vermelho\n",
      "Paciente: 107 Probabilidade: 0.628 vermelho\n",
      "Paciente: 108 Probabilidade: 0.321 vermelho\n",
      "Paciente: 109 Probabilidade: 0.565 vermelho\n",
      "Paciente: 110 Probabilidade: 0.631 vermelho\n",
      "Paciente: 111 Probabilidade: 0.383 vermelho\n",
      "Paciente: 112 Probabilidade: 0.509 vermelho\n",
      "Paciente: 113 Probabilidade: 0.449 vermelho\n",
      "Paciente: 114 Probabilidade: 0.352 vermelho\n",
      "Paciente: 115 Probabilidade: 0.352 vermelho\n",
      "Paciente: 116 Probabilidade: 0.471 vermelho\n",
      "Paciente: 117 Probabilidade: 0.47 vermelho\n",
      "Paciente: 118 Probabilidade: 0.839 vermelho\n",
      "Paciente: 119 Probabilidade: 0.47 vermelho\n",
      "Paciente: 120 Probabilidade: 0.645 vermelho\n",
      "Paciente: 121 Probabilidade: 0.415 vermelho\n",
      "Paciente: 122 Probabilidade: 0.628 vermelho\n",
      "Paciente: 123 Probabilidade: 0.664 vermelho\n",
      "Paciente: 124 Probabilidade: 0.449 vermelho\n",
      "Paciente: 125 Probabilidade: 0.505 vermelho\n",
      "Paciente: 126 Probabilidade: 0.415 vermelho\n",
      "Paciente: 127 Probabilidade: 0.509 vermelho\n",
      "Paciente: 128 Probabilidade: 0.298 amarelo\n",
      "Paciente: 129 Probabilidade: 0.642 vermelho\n",
      "Paciente: 130 Probabilidade: 0.89 vermelho\n",
      "Paciente: 131 Probabilidade: 0.165 amarelo\n",
      "Paciente: 132 Probabilidade: 0.45 vermelho\n",
      "Paciente: 133 Probabilidade: 0.628 vermelho\n",
      "Paciente: 134 Probabilidade: 0.287 amarelo\n",
      "Paciente: 135 Probabilidade: 0.645 vermelho\n",
      "Paciente: 136 Probabilidade: 0.628 vermelho\n",
      "Paciente: 137 Probabilidade: 0.735 vermelho\n",
      "Paciente: 138 Probabilidade: 0.52 vermelho\n",
      "Paciente: 139 Probabilidade: 0.376 vermelho\n",
      "Paciente: 140 Probabilidade: 0.735 vermelho\n",
      "Paciente: 141 Probabilidade: 0.595 vermelho\n",
      "Paciente: 142 Probabilidade: 0.645 vermelho\n",
      "Paciente: 143 Probabilidade: 0.333 vermelho\n",
      "Paciente: 144 Probabilidade: 0.265 amarelo\n",
      "Paciente: 145 Probabilidade: 0.746 vermelho\n",
      "Paciente: 146 Probabilidade: 0.678 vermelho\n",
      "Paciente: 147 Probabilidade: 0.449 vermelho\n",
      "Paciente: 148 Probabilidade: 0.708 vermelho\n",
      "Paciente: 149 Probabilidade: 0.398 vermelho\n",
      "Paciente: 150 Probabilidade: 0.628 vermelho\n",
      "Paciente: 151 Probabilidade: 0.628 vermelho\n",
      "Paciente: 152 Probabilidade: 0.123 amarelo\n",
      "Paciente: 153 Probabilidade: 0.746 vermelho\n",
      "Paciente: 154 Probabilidade: 0.306 vermelho\n",
      "Paciente: 155 Probabilidade: 0.633 vermelho\n",
      "Paciente: 156 Probabilidade: 0.723 vermelho\n",
      "Paciente: 157 Probabilidade: 0.7 vermelho\n",
      "Paciente: 158 Probabilidade: 0.505 vermelho\n",
      "Paciente: 159 Probabilidade: 0.645 vermelho\n",
      "Paciente: 160 Probabilidade: 0.628 vermelho\n",
      "Paciente: 161 Probabilidade: 0.74 vermelho\n",
      "Paciente: 162 Probabilidade: 0.7 vermelho\n",
      "Paciente: 163 Probabilidade: 0.586 vermelho\n",
      "Paciente: 164 Probabilidade: 0.746 vermelho\n",
      "Paciente: 165 Probabilidade: 0.338 vermelho\n",
      "Paciente: 166 Probabilidade: 0.449 vermelho\n",
      "Paciente: 167 Probabilidade: 0.466 vermelho\n",
      "Paciente: 168 Probabilidade: 0.271 amarelo\n",
      "Paciente: 169 Probabilidade: 0.156 amarelo\n",
      "Paciente: 170 Probabilidade: 0.119 amarelo\n",
      "Paciente: 171 Probabilidade: 0.449 vermelho\n",
      "Paciente: 172 Probabilidade: 0.328 vermelho\n",
      "Paciente: 173 Probabilidade: 0.353 vermelho\n",
      "Paciente: 174 Probabilidade: 0.205 amarelo\n",
      "Paciente: 175 Probabilidade: 0.23 amarelo\n",
      "Paciente: 176 Probabilidade: 0.628 vermelho\n",
      "Paciente: 177 Probabilidade: 0.735 vermelho\n",
      "Paciente: 178 Probabilidade: 0.523 vermelho\n",
      "Paciente: 179 Probabilidade: 0.23 amarelo\n",
      "Paciente: 180 Probabilidade: 0.449 vermelho\n",
      "Paciente: 181 Probabilidade: 0.605 vermelho\n",
      "Paciente: 182 Probabilidade: 0.414 vermelho\n",
      "Paciente: 183 Probabilidade: 0.664 vermelho\n",
      "Paciente: 184 Probabilidade: 0.7 vermelho\n",
      "Paciente: 185 Probabilidade: 0.079 amarelo\n",
      "Paciente: 186 Probabilidade: 0.628 vermelho\n",
      "Paciente: 187 Probabilidade: 0.383 vermelho\n",
      "Paciente: 188 Probabilidade: 0.74 vermelho\n",
      "Paciente: 189 Probabilidade: 0.735 vermelho\n",
      "Paciente: 190 Probabilidade: 0.839 vermelho\n",
      "Paciente: 191 Probabilidade: 0.353 vermelho\n",
      "Paciente: 192 Probabilidade: 0.449 vermelho\n",
      "Paciente: 193 Probabilidade: 0.6 vermelho\n",
      "Paciente: 194 Probabilidade: 0.7 vermelho\n",
      "Paciente: 195 Probabilidade: 0.839 vermelho\n",
      "Paciente: 196 Probabilidade: 0.353 vermelho\n",
      "Paciente: 197 Probabilidade: 0.505 vermelho\n",
      "Paciente: 198 Probabilidade: 0.7 vermelho\n",
      "Paciente: 199 Probabilidade: 0.505 vermelho\n",
      "Paciente: 200 Probabilidade: 0.264 amarelo\n",
      "Paciente: 201 Probabilidade: 0.735 vermelho\n",
      "Paciente: 202 Probabilidade: 0.645 vermelho\n",
      "Paciente: 203 Probabilidade: 0.664 vermelho\n",
      "Paciente: 204 Probabilidade: 0.47 vermelho\n",
      "Paciente: 205 Probabilidade: 0.352 vermelho\n",
      "Paciente: 206 Probabilidade: 0.505 vermelho\n",
      "Paciente: 207 Probabilidade: 0.352 vermelho\n",
      "Paciente: 208 Probabilidade: 0.304 vermelho\n",
      "Paciente: 209 Probabilidade: 0.628 vermelho\n",
      "Paciente: 210 Probabilidade: 0.35 vermelho\n",
      "Paciente: 211 Probabilidade: 0.382 vermelho\n",
      "Paciente: 212 Probabilidade: 0.558 vermelho\n",
      "Paciente: 213 Probabilidade: 0.449 vermelho\n",
      "Paciente: 214 Probabilidade: 0.34 vermelho\n",
      "Paciente: 215 Probabilidade: 0.443 vermelho\n",
      "Paciente: 216 Probabilidade: 0.628 vermelho\n",
      "Paciente: 217 Probabilidade: 0.449 vermelho\n",
      "Paciente: 218 Probabilidade: 0.23 amarelo\n",
      "Paciente: 219 Probabilidade: 0.701 vermelho\n",
      "Paciente: 220 Probabilidade: 0.404 vermelho\n",
      "Paciente: 221 Probabilidade: 0.561 vermelho\n",
      "Paciente: 222 Probabilidade: 0.23 amarelo\n",
      "Paciente: 223 Probabilidade: 0.628 vermelho\n",
      "Paciente: 224 Probabilidade: 0.7 vermelho\n",
      "Paciente: 225 Probabilidade: 0.561 vermelho\n",
      "Paciente: 226 Probabilidade: 0.23 amarelo\n",
      "Paciente: 227 Probabilidade: 0.386 vermelho\n",
      "Paciente: 228 Probabilidade: 0.197 amarelo\n",
      "Paciente: 229 Probabilidade: 0.505 vermelho\n",
      "Paciente: 230 Probabilidade: 0.628 vermelho\n",
      "Paciente: 231 Probabilidade: 0.353 vermelho\n",
      "Paciente: 232 Probabilidade: 0.706 vermelho\n",
      "Paciente: 233 Probabilidade: 0.119 amarelo\n",
      "Paciente: 234 Probabilidade: 0.701 vermelho\n",
      "Paciente: 235 Probabilidade: 0.449 vermelho\n",
      "Paciente: 236 Probabilidade: 0.415 vermelho\n",
      "Paciente: 237 Probabilidade: 0.74 vermelho\n",
      "Paciente: 238 Probabilidade: 0.439 vermelho\n",
      "Paciente: 239 Probabilidade: 0.349 vermelho\n",
      "Paciente: 240 Probabilidade: 0.735 vermelho\n",
      "Paciente: 241 Probabilidade: 0.058 amarelo\n",
      "Paciente: 242 Probabilidade: 0.7 vermelho\n",
      "Paciente: 243 Probabilidade: 0.858 vermelho\n",
      "Paciente: 244 Probabilidade: 0.628 vermelho\n",
      "Paciente: 245 Probabilidade: 0.264 amarelo\n",
      "Paciente: 246 Probabilidade: 0.353 vermelho\n",
      "Paciente: 247 Probabilidade: 0.47 vermelho\n",
      "Paciente: 248 Probabilidade: 0.735 vermelho\n",
      "Paciente: 249 Probabilidade: 0.744 vermelho\n",
      "Paciente: 250 Probabilidade: 0.701 vermelho\n",
      "Paciente: 251 Probabilidade: 0.628 vermelho\n",
      "Paciente: 252 Probabilidade: 0.7 vermelho\n",
      "Paciente: 253 Probabilidade: 0.505 vermelho\n",
      "Paciente: 254 Probabilidade: 0.53 vermelho\n",
      "Paciente: 255 Probabilidade: 0.449 vermelho\n",
      "Paciente: 256 Probabilidade: 0.521 vermelho\n",
      "Paciente: 257 Probabilidade: 0.839 vermelho\n",
      "Paciente: 258 Probabilidade: 0.006 verde\n",
      "Paciente: 259 Probabilidade: 0.139 amarelo\n",
      "Paciente: 260 Probabilidade: 0.012 verde\n",
      "Paciente: 261 Probabilidade: 0.002 verde\n",
      "Paciente: 262 Probabilidade: 0.484 vermelho\n",
      "Paciente: 263 Probabilidade: 0.004 verde\n",
      "Paciente: 264 Probabilidade: 0.002 verde\n",
      "Paciente: 265 Probabilidade: 0.252 amarelo\n",
      "Paciente: 266 Probabilidade: 0.628 vermelho\n",
      "Paciente: 267 Probabilidade: 0.002 verde\n",
      "Paciente: 268 Probabilidade: 0.004 verde\n",
      "Paciente: 269 Probabilidade: 0.223 amarelo\n",
      "Paciente: 270 Probabilidade: 0.02 verde\n",
      "Paciente: 271 Probabilidade: 0.003 verde\n",
      "Paciente: 272 Probabilidade: 0.261 amarelo\n",
      "Paciente: 273 Probabilidade: 0.033 verde\n",
      "Paciente: 274 Probabilidade: 0.004 verde\n",
      "Paciente: 275 Probabilidade: 0.002 verde\n",
      "Paciente: 276 Probabilidade: 0.003 verde\n",
      "Paciente: 277 Probabilidade: 0.453 vermelho\n",
      "Paciente: 278 Probabilidade: 0.349 vermelho\n",
      "Paciente: 279 Probabilidade: 0.001 verde\n",
      "Paciente: 280 Probabilidade: 0.628 vermelho\n",
      "Paciente: 281 Probabilidade: 0.003 verde\n",
      "Paciente: 282 Probabilidade: 0.007 verde\n",
      "Paciente: 283 Probabilidade: 0.003 verde\n",
      "Paciente: 284 Probabilidade: 0.002 verde\n",
      "Paciente: 285 Probabilidade: 0.002 verde\n",
      "Paciente: 286 Probabilidade: 0.004 verde\n",
      "Paciente: 287 Probabilidade: 0.005 verde\n",
      "Paciente: 288 Probabilidade: 0.002 verde\n",
      "Paciente: 289 Probabilidade: 0.007 verde\n",
      "Paciente: 290 Probabilidade: 0.127 amarelo\n",
      "Paciente: 291 Probabilidade: 0.016 verde\n",
      "Paciente: 292 Probabilidade: 0.009 verde\n",
      "Paciente: 293 Probabilidade: 0.404 vermelho\n",
      "Paciente: 294 Probabilidade: 0.002 verde\n",
      "Paciente: 295 Probabilidade: 0.009 verde\n",
      "Paciente: 296 Probabilidade: 0.003 verde\n",
      "Paciente: 297 Probabilidade: 0.006 verde\n",
      "Paciente: 298 Probabilidade: 0.143 amarelo\n",
      "Paciente: 299 Probabilidade: 0.505 vermelho\n",
      "Paciente: 300 Probabilidade: 0.258 amarelo\n",
      "Paciente: 301 Probabilidade: 0.007 verde\n",
      "Paciente: 302 Probabilidade: 0.006 verde\n",
      "Paciente: 303 Probabilidade: 0.664 vermelho\n",
      "Paciente: 304 Probabilidade: 0.628 vermelho\n",
      "Paciente: 305 Probabilidade: 0.339 vermelho\n",
      "Paciente: 306 Probabilidade: 0.002 verde\n",
      "Paciente: 307 Probabilidade: 0.156 amarelo\n",
      "Paciente: 308 Probabilidade: 0.006 verde\n",
      "Paciente: 309 Probabilidade: 0.7 vermelho\n",
      "Paciente: 310 Probabilidade: 0.47 vermelho\n",
      "Paciente: 311 Probabilidade: 0.449 vermelho\n",
      "Paciente: 312 Probabilidade: 0.006 verde\n",
      "Paciente: 313 Probabilidade: 0.005 verde\n",
      "Paciente: 314 Probabilidade: 0.141 amarelo\n",
      "Paciente: 315 Probabilidade: 0.23 amarelo\n",
      "Paciente: 316 Probabilidade: 0.003 verde\n",
      "Paciente: 317 Probabilidade: 0.014 verde\n",
      "Paciente: 318 Probabilidade: 0.278 amarelo\n",
      "Paciente: 319 Probabilidade: 0.002 verde\n",
      "Paciente: 320 Probabilidade: 0.005 verde\n",
      "Paciente: 321 Probabilidade: 0.004 verde\n",
      "Paciente: 322 Probabilidade: 0.002 verde\n",
      "Paciente: 323 Probabilidade: 0.009 verde\n",
      "Paciente: 324 Probabilidade: 0.004 verde\n",
      "Paciente: 325 Probabilidade: 0.18 amarelo\n",
      "Paciente: 326 Probabilidade: 0.009 verde\n",
      "Paciente: 327 Probabilidade: 0.005 verde\n",
      "Paciente: 328 Probabilidade: 0.445 vermelho\n",
      "Paciente: 329 Probabilidade: 0.003 verde\n",
      "Paciente: 330 Probabilidade: 0.008 verde\n",
      "Paciente: 331 Probabilidade: 0.002 verde\n",
      "Paciente: 332 Probabilidade: 0.002 verde\n",
      "Paciente: 333 Probabilidade: 0.62 vermelho\n",
      "Paciente: 334 Probabilidade: 0.075 amarelo\n",
      "Paciente: 335 Probabilidade: 0.005 verde\n",
      "Paciente: 336 Probabilidade: 0.242 amarelo\n",
      "Paciente: 337 Probabilidade: 0.003 verde\n",
      "Paciente: 338 Probabilidade: 0.839 vermelho\n",
      "Paciente: 339 Probabilidade: 0.009 verde\n",
      "Paciente: 340 Probabilidade: 0.7 vermelho\n",
      "Paciente: 341 Probabilidade: 0.006 verde\n",
      "Paciente: 342 Probabilidade: 0.007 verde\n",
      "Paciente: 343 Probabilidade: 0.005 verde\n",
      "Paciente: 344 Probabilidade: 0.006 verde\n",
      "Paciente: 345 Probabilidade: 0.004 verde\n",
      "Paciente: 346 Probabilidade: 0.169 amarelo\n",
      "Paciente: 347 Probabilidade: 0.006 verde\n",
      "Paciente: 348 Probabilidade: 0.002 verde\n",
      "Paciente: 349 Probabilidade: 0.415 vermelho\n",
      "Paciente: 350 Probabilidade: 0.004 verde\n",
      "Paciente: 351 Probabilidade: 0.004 verde\n",
      "Paciente: 352 Probabilidade: 0.349 vermelho\n",
      "Paciente: 353 Probabilidade: 0.002 verde\n",
      "Paciente: 354 Probabilidade: 0.004 verde\n",
      "Paciente: 355 Probabilidade: 0.005 verde\n",
      "Paciente: 356 Probabilidade: 0.02 verde\n",
      "Paciente: 357 Probabilidade: 0.505 vermelho\n",
      "Paciente: 358 Probabilidade: 0.006 verde\n",
      "Paciente: 359 Probabilidade: 0.006 verde\n",
      "Paciente: 360 Probabilidade: 0.002 verde\n",
      "Paciente: 361 Probabilidade: 0.003 verde\n",
      "Paciente: 362 Probabilidade: 0.02 verde\n",
      "Paciente: 363 Probabilidade: 0.006 verde\n",
      "Paciente: 364 Probabilidade: 0.628 vermelho\n",
      "Paciente: 365 Probabilidade: 0.353 vermelho\n",
      "Paciente: 366 Probabilidade: 0.09 amarelo\n",
      "Paciente: 367 Probabilidade: 0.23 amarelo\n",
      "Paciente: 368 Probabilidade: 0.004 verde\n",
      "Paciente: 369 Probabilidade: 0.005 verde\n",
      "Paciente: 370 Probabilidade: 0.252 amarelo\n",
      "Paciente: 371 Probabilidade: 0.178 amarelo\n",
      "Paciente: 372 Probabilidade: 0.404 vermelho\n",
      "Paciente: 373 Probabilidade: 0.006 verde\n",
      "Paciente: 374 Probabilidade: 0.254 amarelo\n",
      "Paciente: 375 Probabilidade: 0.016 verde\n",
      "Paciente: 376 Probabilidade: 0.352 vermelho\n",
      "Paciente: 377 Probabilidade: 0.005 verde\n",
      "Paciente: 378 Probabilidade: 0.004 verde\n",
      "Paciente: 379 Probabilidade: 0.005 verde\n",
      "Paciente: 380 Probabilidade: 0.002 verde\n",
      "Paciente: 381 Probabilidade: 0.366 vermelho\n",
      "Paciente: 382 Probabilidade: 0.23 amarelo\n",
      "Paciente: 383 Probabilidade: 0.004 verde\n",
      "Paciente: 384 Probabilidade: 0.005 verde\n",
      "Paciente: 385 Probabilidade: 0.735 vermelho\n",
      "Paciente: 386 Probabilidade: 0.004 verde\n",
      "Paciente: 387 Probabilidade: 0.003 verde\n",
      "Paciente: 388 Probabilidade: 0.002 verde\n",
      "Paciente: 389 Probabilidade: 0.258 amarelo\n",
      "Paciente: 390 Probabilidade: 0.003 verde\n",
      "Paciente: 391 Probabilidade: 0.005 verde\n",
      "Paciente: 392 Probabilidade: 0.079 amarelo\n",
      "Paciente: 393 Probabilidade: 0.024 verde\n",
      "Paciente: 394 Probabilidade: 0.043 verde\n",
      "Paciente: 395 Probabilidade: 0.628 vermelho\n",
      "Paciente: 396 Probabilidade: 0.004 verde\n",
      "Paciente: 397 Probabilidade: 0.003 verde\n",
      "Paciente: 398 Probabilidade: 0.005 verde\n",
      "Paciente: 399 Probabilidade: 0.227 amarelo\n",
      "Paciente: 400 Probabilidade: 0.161 amarelo\n",
      "Paciente: 401 Probabilidade: 0.003 verde\n",
      "Paciente: 402 Probabilidade: 0.3 amarelo\n",
      "Paciente: 403 Probabilidade: 0.005 verde\n",
      "Paciente: 404 Probabilidade: 0.449 vermelho\n",
      "Paciente: 405 Probabilidade: 0.434 vermelho\n",
      "Paciente: 406 Probabilidade: 0.079 amarelo\n",
      "Paciente: 407 Probabilidade: 0.002 verde\n",
      "Paciente: 408 Probabilidade: 0.002 verde\n",
      "Paciente: 409 Probabilidade: 0.047 verde\n",
      "Paciente: 410 Probabilidade: 0.01 verde\n",
      "Paciente: 411 Probabilidade: 0.23 amarelo\n",
      "Paciente: 412 Probabilidade: 0.003 verde\n",
      "Paciente: 413 Probabilidade: 0.052 amarelo\n",
      "Paciente: 414 Probabilidade: 0.013 verde\n",
      "Paciente: 415 Probabilidade: 0.131 amarelo\n",
      "Paciente: 416 Probabilidade: 0.004 verde\n",
      "Paciente: 417 Probabilidade: 0.024 verde\n",
      "Paciente: 418 Probabilidade: 0.003 verde\n",
      "Paciente: 419 Probabilidade: 0.003 verde\n",
      "Paciente: 420 Probabilidade: 0.006 verde\n",
      "Paciente: 421 Probabilidade: 0.012 verde\n",
      "Paciente: 422 Probabilidade: 0.003 verde\n",
      "Paciente: 423 Probabilidade: 0.003 verde\n",
      "Paciente: 424 Probabilidade: 0.005 verde\n",
      "Paciente: 425 Probabilidade: 0.003 verde\n",
      "Paciente: 426 Probabilidade: 0.003 verde\n",
      "Paciente: 427 Probabilidade: 0.23 amarelo\n",
      "Paciente: 428 Probabilidade: 0.353 vermelho\n",
      "Paciente: 429 Probabilidade: 0.004 verde\n",
      "Paciente: 430 Probabilidade: 0.628 vermelho\n",
      "Paciente: 431 Probabilidade: 0.281 amarelo\n",
      "Paciente: 432 Probabilidade: 0.009 verde\n",
      "Paciente: 433 Probabilidade: 0.645 vermelho\n",
      "Paciente: 434 Probabilidade: 0.002 verde\n",
      "Paciente: 435 Probabilidade: 0.102 amarelo\n",
      "Paciente: 436 Probabilidade: 0.006 verde\n",
      "Paciente: 437 Probabilidade: 0.01 verde\n",
      "Paciente: 438 Probabilidade: 0.004 verde\n",
      "Paciente: 439 Probabilidade: 0.024 verde\n",
      "Paciente: 440 Probabilidade: 0.001 verde\n",
      "Paciente: 441 Probabilidade: 0.004 verde\n",
      "Paciente: 442 Probabilidade: 0.059 amarelo\n",
      "Paciente: 443 Probabilidade: 0.628 vermelho\n",
      "Paciente: 444 Probabilidade: 0.008 verde\n",
      "Paciente: 445 Probabilidade: 0.004 verde\n",
      "Paciente: 446 Probabilidade: 0.003 verde\n",
      "Paciente: 447 Probabilidade: 0.006 verde\n",
      "Paciente: 448 Probabilidade: 0.002 verde\n",
      "Paciente: 449 Probabilidade: 0.237 amarelo\n",
      "Paciente: 450 Probabilidade: 0.201 amarelo\n",
      "Paciente: 451 Probabilidade: 0.005 verde\n",
      "Paciente: 452 Probabilidade: 0.003 verde\n",
      "Paciente: 453 Probabilidade: 0.302 vermelho\n",
      "Paciente: 454 Probabilidade: 0.002 verde\n",
      "Paciente: 455 Probabilidade: 0.002 verde\n",
      "Paciente: 456 Probabilidade: 0.002 verde\n",
      "Paciente: 457 Probabilidade: 0.349 vermelho\n",
      "Paciente: 458 Probabilidade: 0.005 verde\n",
      "Paciente: 459 Probabilidade: 0.215 amarelo\n",
      "Paciente: 460 Probabilidade: 0.002 verde\n",
      "Paciente: 461 Probabilidade: 0.144 amarelo\n",
      "Paciente: 462 Probabilidade: 0.005 verde\n",
      "Paciente: 463 Probabilidade: 0.003 verde\n",
      "Paciente: 464 Probabilidade: 0.006 verde\n",
      "Paciente: 465 Probabilidade: 0.002 verde\n",
      "Paciente: 466 Probabilidade: 0.505 vermelho\n",
      "Paciente: 467 Probabilidade: 0.017 verde\n",
      "Paciente: 468 Probabilidade: 0.002 verde\n",
      "Paciente: 469 Probabilidade: 0.004 verde\n",
      "Paciente: 470 Probabilidade: 0.004 verde\n",
      "Paciente: 471 Probabilidade: 0.053 amarelo\n",
      "Paciente: 472 Probabilidade: 0.002 verde\n",
      "Paciente: 473 Probabilidade: 0.004 verde\n",
      "Paciente: 474 Probabilidade: 0.002 verde\n",
      "Paciente: 475 Probabilidade: 0.004 verde\n",
      "Paciente: 476 Probabilidade: 0.285 amarelo\n",
      "Paciente: 477 Probabilidade: 0.002 verde\n",
      "Paciente: 478 Probabilidade: 0.004 verde\n",
      "Paciente: 479 Probabilidade: 0.004 verde\n",
      "Paciente: 480 Probabilidade: 0.62 vermelho\n",
      "Paciente: 481 Probabilidade: 0.139 amarelo\n",
      "Paciente: 482 Probabilidade: 0.001 verde\n",
      "Paciente: 483 Probabilidade: 0.009 verde\n",
      "Paciente: 484 Probabilidade: 0.002 verde\n",
      "Paciente: 485 Probabilidade: 0.005 verde\n",
      "Paciente: 486 Probabilidade: 0.004 verde\n",
      "Paciente: 487 Probabilidade: 0.003 verde\n",
      "Paciente: 488 Probabilidade: 0.008 verde\n",
      "Paciente: 489 Probabilidade: 0.001 verde\n",
      "Paciente: 490 Probabilidade: 0.496 vermelho\n",
      "Paciente: 491 Probabilidade: 0.003 verde\n",
      "Paciente: 492 Probabilidade: 0.006 verde\n",
      "Paciente: 493 Probabilidade: 0.002 verde\n",
      "Paciente: 494 Probabilidade: 0.002 verde\n",
      "Paciente: 495 Probabilidade: 0.004 verde\n",
      "Paciente: 496 Probabilidade: 0.003 verde\n",
      "Paciente: 497 Probabilidade: 0.006 verde\n",
      "Paciente: 498 Probabilidade: 0.002 verde\n",
      "Paciente: 499 Probabilidade: 0.449 vermelho\n",
      "Paciente: 500 Probabilidade: 0.012 verde\n",
      "Paciente: 501 Probabilidade: 0.552 vermelho\n",
      "Paciente: 502 Probabilidade: 0.003 verde\n",
      "Paciente: 503 Probabilidade: 0.353 vermelho\n",
      "Paciente: 504 Probabilidade: 0.002 verde\n",
      "Paciente: 505 Probabilidade: 0.008 verde\n",
      "Paciente: 506 Probabilidade: 0.53 vermelho\n",
      "Paciente: 507 Probabilidade: 0.003 verde\n",
      "Paciente: 508 Probabilidade: 0.011 verde\n",
      "Paciente: 509 Probabilidade: 0.128 amarelo\n",
      "Paciente: 510 Probabilidade: 0.002 verde\n",
      "Paciente: 511 Probabilidade: 0.003 verde\n",
      "Paciente: 512 Probabilidade: 0.006 verde\n",
      "Paciente: 513 Probabilidade: 0.505 vermelho\n",
      "Paciente: 514 Probabilidade: 0.005 verde\n",
      "Paciente: 515 Probabilidade: 0.664 vermelho\n",
      "Paciente: 516 Probabilidade: 0.7 vermelho\n",
      "Paciente: 517 Probabilidade: 0.628 vermelho\n",
      "Paciente: 518 Probabilidade: 0.006 verde\n",
      "Paciente: 519 Probabilidade: 0.004 verde\n",
      "Paciente: 520 Probabilidade: 0.006 verde\n",
      "Paciente: 521 Probabilidade: 0.204 amarelo\n",
      "Paciente: 522 Probabilidade: 0.006 verde\n",
      "Paciente: 523 Probabilidade: 0.007 verde\n",
      "Paciente: 524 Probabilidade: 0.002 verde\n",
      "Paciente: 525 Probabilidade: 0.004 verde\n",
      "Paciente: 526 Probabilidade: 0.003 verde\n",
      "Paciente: 527 Probabilidade: 0.002 verde\n",
      "Paciente: 528 Probabilidade: 0.258 amarelo\n",
      "Paciente: 529 Probabilidade: 0.006 verde\n",
      "Paciente: 530 Probabilidade: 0.006 verde\n",
      "Paciente: 531 Probabilidade: 0.002 verde\n",
      "Paciente: 532 Probabilidade: 0.101 amarelo\n",
      "Paciente: 533 Probabilidade: 0.005 verde\n",
      "Paciente: 534 Probabilidade: 0.7 vermelho\n",
      "Paciente: 535 Probabilidade: 0.003 verde\n",
      "Paciente: 536 Probabilidade: 0.004 verde\n",
      "Paciente: 537 Probabilidade: 0.006 verde\n",
      "Paciente: 538 Probabilidade: 0.003 verde\n",
      "Paciente: 539 Probabilidade: 0.003 verde\n",
      "Paciente: 540 Probabilidade: 0.003 verde\n",
      "Paciente: 541 Probabilidade: 0.004 verde\n",
      "Paciente: 542 Probabilidade: 0.006 verde\n",
      "Paciente: 543 Probabilidade: 0.003 verde\n",
      "Paciente: 544 Probabilidade: 0.004 verde\n",
      "Paciente: 545 Probabilidade: 0.006 verde\n",
      "Paciente: 546 Probabilidade: 0.003 verde\n",
      "Paciente: 547 Probabilidade: 0.006 verde\n",
      "Paciente: 548 Probabilidade: 0.449 vermelho\n",
      "Paciente: 549 Probabilidade: 0.23 amarelo\n",
      "Paciente: 550 Probabilidade: 0.001 verde\n",
      "Paciente: 551 Probabilidade: 0.102 amarelo\n",
      "Paciente: 552 Probabilidade: 0.003 verde\n",
      "Paciente: 553 Probabilidade: 0.049 verde\n",
      "Paciente: 554 Probabilidade: 0.003 verde\n",
      "Paciente: 555 Probabilidade: 0.166 amarelo\n",
      "Paciente: 556 Probabilidade: 0.261 amarelo\n",
      "Paciente: 557 Probabilidade: 0.006 verde\n",
      "Paciente: 558 Probabilidade: 0.003 verde\n",
      "Paciente: 559 Probabilidade: 0.002 verde\n",
      "Paciente: 560 Probabilidade: 0.352 vermelho\n",
      "Paciente: 561 Probabilidade: 0.007 verde\n",
      "Paciente: 562 Probabilidade: 0.006 verde\n",
      "Paciente: 563 Probabilidade: 0.001 verde\n",
      "Paciente: 564 Probabilidade: 0.002 verde\n",
      "Paciente: 565 Probabilidade: 0.003 verde\n",
      "Paciente: 566 Probabilidade: 0.065 amarelo\n",
      "Paciente: 567 Probabilidade: 0.449 vermelho\n",
      "Paciente: 568 Probabilidade: 0.002 verde\n",
      "Paciente: 569 Probabilidade: 0.47 vermelho\n",
      "Paciente: 570 Probabilidade: 0.005 verde\n",
      "Paciente: 571 Probabilidade: 0.002 verde\n",
      "Paciente: 572 Probabilidade: 0.005 verde\n",
      "Paciente: 573 Probabilidade: 0.004 verde\n",
      "Paciente: 574 Probabilidade: 0.007 verde\n",
      "Paciente: 575 Probabilidade: 0.004 verde\n",
      "Paciente: 576 Probabilidade: 0.002 verde\n",
      "Paciente: 577 Probabilidade: 0.008 verde\n",
      "Paciente: 578 Probabilidade: 0.74 vermelho\n",
      "Paciente: 579 Probabilidade: 0.002 verde\n",
      "Paciente: 580 Probabilidade: 0.002 verde\n",
      "Paciente: 581 Probabilidade: 0.005 verde\n",
      "Paciente: 582 Probabilidade: 0.007 verde\n",
      "Paciente: 583 Probabilidade: 0.001 verde\n",
      "Paciente: 584 Probabilidade: 0.003 verde\n",
      "Paciente: 585 Probabilidade: 0.007 verde\n",
      "Paciente: 586 Probabilidade: 0.002 verde\n",
      "Paciente: 587 Probabilidade: 0.002 verde\n",
      "Paciente: 588 Probabilidade: 0.215 amarelo\n",
      "Paciente: 589 Probabilidade: 0.52 vermelho\n",
      "Paciente: 590 Probabilidade: 0.002 verde\n",
      "Paciente: 591 Probabilidade: 0.003 verde\n",
      "Paciente: 592 Probabilidade: 0.012 verde\n",
      "Paciente: 593 Probabilidade: 0.019 verde\n",
      "Paciente: 594 Probabilidade: 0.002 verde\n",
      "Paciente: 595 Probabilidade: 0.006 verde\n",
      "Paciente: 596 Probabilidade: 0.002 verde\n",
      "Paciente: 597 Probabilidade: 0.642 vermelho\n",
      "Paciente: 598 Probabilidade: 0.23 amarelo\n",
      "Paciente: 599 Probabilidade: 0.004 verde\n",
      "Paciente: 600 Probabilidade: 0.005 verde\n",
      "Paciente: 601 Probabilidade: 0.003 verde\n",
      "Paciente: 602 Probabilidade: 0.143 amarelo\n",
      "Paciente: 603 Probabilidade: 0.47 vermelho\n",
      "Paciente: 604 Probabilidade: 0.002 verde\n",
      "Paciente: 605 Probabilidade: 0.005 verde\n",
      "Paciente: 606 Probabilidade: 0.003 verde\n",
      "Paciente: 607 Probabilidade: 0.735 vermelho\n",
      "Paciente: 608 Probabilidade: 0.01 verde\n",
      "Paciente: 609 Probabilidade: 0.004 verde\n",
      "Paciente: 610 Probabilidade: 0.003 verde\n",
      "Paciente: 611 Probabilidade: 0.404 vermelho\n",
      "Paciente: 612 Probabilidade: 0.23 amarelo\n",
      "Paciente: 613 Probabilidade: 0.024 verde\n",
      "Paciente: 614 Probabilidade: 0.045 verde\n",
      "Paciente: 615 Probabilidade: 0.002 verde\n",
      "Paciente: 616 Probabilidade: 0.004 verde\n",
      "Paciente: 617 Probabilidade: 0.002 verde\n",
      "Paciente: 618 Probabilidade: 0.197 amarelo\n",
      "Paciente: 619 Probabilidade: 0.005 verde\n",
      "Paciente: 620 Probabilidade: 0.019 verde\n",
      "Paciente: 621 Probabilidade: 0.007 verde\n",
      "Paciente: 622 Probabilidade: 0.001 verde\n",
      "Paciente: 623 Probabilidade: 0.02 verde\n",
      "Paciente: 624 Probabilidade: 0.016 verde\n",
      "Paciente: 625 Probabilidade: 0.145 amarelo\n",
      "Paciente: 626 Probabilidade: 0.349 vermelho\n",
      "Paciente: 627 Probabilidade: 0.345 vermelho\n",
      "Paciente: 628 Probabilidade: 0.462 vermelho\n",
      "Paciente: 629 Probabilidade: 0.007 verde\n",
      "Paciente: 630 Probabilidade: 0.002 verde\n",
      "Paciente: 631 Probabilidade: 0.006 verde\n",
      "Paciente: 632 Probabilidade: 0.005 verde\n",
      "Paciente: 633 Probabilidade: 0.002 verde\n",
      "Paciente: 634 Probabilidade: 0.003 verde\n",
      "Paciente: 635 Probabilidade: 0.003 verde\n",
      "Paciente: 636 Probabilidade: 0.131 amarelo\n",
      "Paciente: 637 Probabilidade: 0.005 verde\n",
      "Paciente: 638 Probabilidade: 0.003 verde\n",
      "Paciente: 639 Probabilidade: 0.004 verde\n",
      "Paciente: 640 Probabilidade: 0.628 vermelho\n",
      "Paciente: 641 Probabilidade: 0.216 amarelo\n",
      "Paciente: 642 Probabilidade: 0.01 verde\n",
      "Paciente: 643 Probabilidade: 0.01 verde\n",
      "Paciente: 644 Probabilidade: 0.01 verde\n",
      "Paciente: 645 Probabilidade: 0.003 verde\n",
      "Paciente: 646 Probabilidade: 0.005 verde\n",
      "Paciente: 647 Probabilidade: 0.024 verde\n",
      "Paciente: 648 Probabilidade: 0.02 verde\n",
      "Paciente: 649 Probabilidade: 0.329 vermelho\n",
      "Paciente: 650 Probabilidade: 0.004 verde\n",
      "Paciente: 651 Probabilidade: 0.002 verde\n",
      "Paciente: 652 Probabilidade: 0.744 vermelho\n",
      "Paciente: 653 Probabilidade: 0.002 verde\n",
      "Paciente: 654 Probabilidade: 0.628 vermelho\n",
      "Paciente: 655 Probabilidade: 0.003 verde\n",
      "Paciente: 656 Probabilidade: 0.005 verde\n",
      "Paciente: 657 Probabilidade: 0.003 verde\n",
      "Paciente: 658 Probabilidade: 0.7 vermelho\n",
      "Paciente: 659 Probabilidade: 0.019 verde\n",
      "Paciente: 660 Probabilidade: 0.006 verde\n",
      "Paciente: 661 Probabilidade: 0.7 vermelho\n",
      "Paciente: 662 Probabilidade: 0.01 verde\n",
      "Paciente: 663 Probabilidade: 0.004 verde\n",
      "Paciente: 664 Probabilidade: 0.23 amarelo\n",
      "Paciente: 665 Probabilidade: 0.003 verde\n",
      "Paciente: 666 Probabilidade: 0.003 verde\n",
      "Paciente: 667 Probabilidade: 0.006 verde\n",
      "Paciente: 668 Probabilidade: 0.003 verde\n",
      "Paciente: 669 Probabilidade: 0.006 verde\n",
      "Paciente: 670 Probabilidade: 0.006 verde\n",
      "Paciente: 671 Probabilidade: 0.005 verde\n",
      "Paciente: 672 Probabilidade: 0.002 verde\n",
      "Paciente: 673 Probabilidade: 0.168 amarelo\n",
      "Paciente: 674 Probabilidade: 0.009 verde\n",
      "Paciente: 675 Probabilidade: 0.398 vermelho\n",
      "Paciente: 676 Probabilidade: 0.002 verde\n",
      "Paciente: 677 Probabilidade: 0.505 vermelho\n",
      "Paciente: 678 Probabilidade: 0.735 vermelho\n",
      "Paciente: 679 Probabilidade: 0.006 verde\n",
      "Paciente: 680 Probabilidade: 0.006 verde\n",
      "Paciente: 681 Probabilidade: 0.003 verde\n",
      "Paciente: 682 Probabilidade: 0.018 verde\n",
      "Paciente: 683 Probabilidade: 0.015 verde\n",
      "Paciente: 684 Probabilidade: 0.004 verde\n",
      "Paciente: 685 Probabilidade: 0.003 verde\n",
      "Paciente: 686 Probabilidade: 0.002 verde\n",
      "Paciente: 687 Probabilidade: 0.413 vermelho\n",
      "Paciente: 688 Probabilidade: 0.002 verde\n",
      "Paciente: 689 Probabilidade: 0.079 amarelo\n",
      "Paciente: 690 Probabilidade: 0.004 verde\n",
      "Paciente: 691 Probabilidade: 0.009 verde\n",
      "Paciente: 692 Probabilidade: 0.002 verde\n",
      "Paciente: 693 Probabilidade: 0.258 amarelo\n",
      "Paciente: 694 Probabilidade: 0.014 verde\n",
      "Paciente: 695 Probabilidade: 0.003 verde\n",
      "Paciente: 696 Probabilidade: 0.003 verde\n",
      "Paciente: 697 Probabilidade: 0.102 amarelo\n",
      "Paciente: 698 Probabilidade: 0.006 verde\n",
      "Paciente: 699 Probabilidade: 0.006 verde\n",
      "Paciente: 700 Probabilidade: 0.628 vermelho\n",
      "Paciente: 701 Probabilidade: 0.002 verde\n",
      "Paciente: 702 Probabilidade: 0.006 verde\n",
      "Paciente: 703 Probabilidade: 0.002 verde\n",
      "Paciente: 704 Probabilidade: 0.006 verde\n",
      "Paciente: 705 Probabilidade: 0.735 vermelho\n",
      "Paciente: 706 Probabilidade: 0.144 amarelo\n",
      "Paciente: 707 Probabilidade: 0.002 verde\n",
      "Paciente: 708 Probabilidade: 0.004 verde\n",
      "Paciente: 709 Probabilidade: 0.003 verde\n",
      "Paciente: 710 Probabilidade: 0.002 verde\n",
      "Paciente: 711 Probabilidade: 0.01 verde\n",
      "Paciente: 712 Probabilidade: 0.404 vermelho\n",
      "Paciente: 713 Probabilidade: 0.262 amarelo\n",
      "Paciente: 714 Probabilidade: 0.002 verde\n",
      "Paciente: 715 Probabilidade: 0.005 verde\n",
      "Paciente: 716 Probabilidade: 0.123 amarelo\n",
      "Paciente: 717 Probabilidade: 0.369 vermelho\n",
      "Paciente: 718 Probabilidade: 0.154 amarelo\n",
      "Paciente: 719 Probabilidade: 0.068 amarelo\n",
      "Paciente: 720 Probabilidade: 0.349 vermelho\n",
      "Paciente: 721 Probabilidade: 0.002 verde\n",
      "Paciente: 722 Probabilidade: 0.002 verde\n",
      "Paciente: 723 Probabilidade: 0.002 verde\n",
      "Paciente: 724 Probabilidade: 0.184 amarelo\n",
      "Paciente: 725 Probabilidade: 0.349 vermelho\n",
      "Paciente: 726 Probabilidade: 0.013 verde\n",
      "Paciente: 727 Probabilidade: 0.003 verde\n",
      "Paciente: 728 Probabilidade: 0.002 verde\n",
      "Paciente: 729 Probabilidade: 0.003 verde\n",
      "Paciente: 730 Probabilidade: 0.505 vermelho\n",
      "Paciente: 731 Probabilidade: 0.003 verde\n",
      "Paciente: 732 Probabilidade: 0.001 verde\n",
      "Paciente: 733 Probabilidade: 0.002 verde\n",
      "Paciente: 734 Probabilidade: 0.003 verde\n",
      "Paciente: 735 Probabilidade: 0.505 vermelho\n",
      "Paciente: 736 Probabilidade: 0.23 amarelo\n",
      "Paciente: 737 Probabilidade: 0.005 verde\n",
      "Paciente: 738 Probabilidade: 0.7 vermelho\n",
      "Paciente: 739 Probabilidade: 0.004 verde\n",
      "Paciente: 740 Probabilidade: 0.006 verde\n",
      "Paciente: 741 Probabilidade: 0.003 verde\n",
      "Paciente: 742 Probabilidade: 0.079 amarelo\n",
      "Paciente: 743 Probabilidade: 0.004 verde\n",
      "Paciente: 744 Probabilidade: 0.004 verde\n",
      "Paciente: 745 Probabilidade: 0.002 verde\n",
      "Paciente: 746 Probabilidade: 0.349 vermelho\n",
      "Paciente: 747 Probabilidade: 0.004 verde\n",
      "Paciente: 748 Probabilidade: 0.002 verde\n",
      "Paciente: 749 Probabilidade: 0.002 verde\n",
      "Paciente: 750 Probabilidade: 0.002 verde\n",
      "Paciente: 751 Probabilidade: 0.003 verde\n",
      "Paciente: 752 Probabilidade: 0.003 verde\n",
      "Paciente: 753 Probabilidade: 0.005 verde\n",
      "Paciente: 754 Probabilidade: 0.18 amarelo\n",
      "Paciente: 755 Probabilidade: 0.002 verde\n",
      "Paciente: 756 Probabilidade: 0.349 vermelho\n",
      "Paciente: 757 Probabilidade: 0.645 vermelho\n",
      "Paciente: 758 Probabilidade: 0.012 verde\n",
      "Paciente: 759 Probabilidade: 0.005 verde\n",
      "Paciente: 760 Probabilidade: 0.353 vermelho\n",
      "Paciente: 761 Probabilidade: 0.003 verde\n",
      "Paciente: 762 Probabilidade: 0.003 verde\n",
      "Paciente: 763 Probabilidade: 0.013 verde\n",
      "Paciente: 764 Probabilidade: 0.003 verde\n",
      "Paciente: 765 Probabilidade: 0.004 verde\n",
      "Paciente: 766 Probabilidade: 0.158 amarelo\n",
      "Paciente: 767 Probabilidade: 0.009 verde\n",
      "Paciente: 768 Probabilidade: 0.019 verde\n",
      "Paciente: 769 Probabilidade: 0.366 vermelho\n",
      "Paciente: 770 Probabilidade: 0.002 verde\n",
      "Paciente: 771 Probabilidade: 0.449 vermelho\n",
      "Paciente: 772 Probabilidade: 0.642 vermelho\n",
      "Paciente: 773 Probabilidade: 0.005 verde\n",
      "Paciente: 774 Probabilidade: 0.007 verde\n",
      "Paciente: 775 Probabilidade: 0.242 amarelo\n",
      "Paciente: 776 Probabilidade: 0.01 verde\n",
      "Paciente: 777 Probabilidade: 0.034 verde\n",
      "Paciente: 778 Probabilidade: 0.003 verde\n",
      "Paciente: 779 Probabilidade: 0.003 verde\n",
      "Paciente: 780 Probabilidade: 0.052 amarelo\n",
      "Paciente: 781 Probabilidade: 0.123 amarelo\n",
      "Paciente: 782 Probabilidade: 0.001 verde\n",
      "Paciente: 783 Probabilidade: 0.009 verde\n",
      "Paciente: 784 Probabilidade: 0.006 verde\n",
      "Paciente: 785 Probabilidade: 0.007 verde\n",
      "Paciente: 786 Probabilidade: 0.003 verde\n",
      "Paciente: 787 Probabilidade: 0.007 verde\n",
      "Paciente: 788 Probabilidade: 0.485 vermelho\n",
      "Paciente: 789 Probabilidade: 0.002 verde\n",
      "Paciente: 790 Probabilidade: 0.004 verde\n",
      "Paciente: 791 Probabilidade: 0.004 verde\n",
      "Paciente: 792 Probabilidade: 0.012 verde\n",
      "Paciente: 793 Probabilidade: 0.01 verde\n",
      "Paciente: 794 Probabilidade: 0.352 vermelho\n",
      "Paciente: 795 Probabilidade: 0.003 verde\n",
      "Paciente: 796 Probabilidade: 0.006 verde\n",
      "Paciente: 797 Probabilidade: 0.561 vermelho\n",
      "Paciente: 798 Probabilidade: 0.013 verde\n",
      "Paciente: 799 Probabilidade: 0.209 amarelo\n",
      "Paciente: 800 Probabilidade: 0.35 vermelho\n",
      "Paciente: 801 Probabilidade: 0.003 verde\n",
      "Paciente: 802 Probabilidade: 0.352 vermelho\n",
      "Paciente: 803 Probabilidade: 0.007 verde\n",
      "Paciente: 804 Probabilidade: 0.006 verde\n",
      "Paciente: 805 Probabilidade: 0.505 vermelho\n",
      "Paciente: 806 Probabilidade: 0.016 verde\n",
      "Paciente: 807 Probabilidade: 0.349 vermelho\n",
      "Paciente: 808 Probabilidade: 0.265 amarelo\n",
      "Paciente: 809 Probabilidade: 0.004 verde\n",
      "Paciente: 810 Probabilidade: 0.003 verde\n",
      "Paciente: 811 Probabilidade: 0.645 vermelho\n",
      "Paciente: 812 Probabilidade: 0.009 verde\n",
      "Paciente: 813 Probabilidade: 0.005 verde\n",
      "Paciente: 814 Probabilidade: 0.23 amarelo\n",
      "Paciente: 815 Probabilidade: 0.002 verde\n",
      "Paciente: 816 Probabilidade: 0.007 verde\n",
      "Paciente: 817 Probabilidade: 0.211 amarelo\n",
      "Paciente: 818 Probabilidade: 0.002 verde\n",
      "Paciente: 819 Probabilidade: 0.413 vermelho\n",
      "Paciente: 820 Probabilidade: 0.005 verde\n",
      "Paciente: 821 Probabilidade: 0.008 verde\n",
      "Paciente: 822 Probabilidade: 0.505 vermelho\n",
      "Paciente: 823 Probabilidade: 0.002 verde\n",
      "Paciente: 824 Probabilidade: 0.006 verde\n",
      "Paciente: 825 Probabilidade: 0.252 amarelo\n",
      "Paciente: 826 Probabilidade: 0.404 vermelho\n",
      "Paciente: 827 Probabilidade: 0.006 verde\n",
      "Paciente: 828 Probabilidade: 0.002 verde\n",
      "Paciente: 829 Probabilidade: 0.003 verde\n",
      "Paciente: 830 Probabilidade: 0.006 verde\n",
      "Paciente: 831 Probabilidade: 0.002 verde\n",
      "Paciente: 832 Probabilidade: 0.006 verde\n",
      "Paciente: 833 Probabilidade: 0.002 verde\n",
      "Paciente: 834 Probabilidade: 0.628 vermelho\n",
      "Paciente: 835 Probabilidade: 0.006 verde\n",
      "Paciente: 836 Probabilidade: 0.23 amarelo\n",
      "Paciente: 837 Probabilidade: 0.001 verde\n",
      "Paciente: 838 Probabilidade: 0.02 verde\n",
      "Paciente: 839 Probabilidade: 0.003 verde\n",
      "Paciente: 840 Probabilidade: 0.137 amarelo\n",
      "Paciente: 841 Probabilidade: 0.003 verde\n",
      "Paciente: 842 Probabilidade: 0.003 verde\n",
      "Paciente: 843 Probabilidade: 0.002 verde\n",
      "Paciente: 844 Probabilidade: 0.215 amarelo\n",
      "Paciente: 845 Probabilidade: 0.309 vermelho\n",
      "Paciente: 846 Probabilidade: 0.161 amarelo\n",
      "Paciente: 847 Probabilidade: 0.002 verde\n",
      "Paciente: 848 Probabilidade: 0.008 verde\n",
      "Paciente: 849 Probabilidade: 0.007 verde\n",
      "Paciente: 850 Probabilidade: 0.302 vermelho\n",
      "Paciente: 851 Probabilidade: 0.003 verde\n",
      "Paciente: 852 Probabilidade: 0.395 vermelho\n",
      "Paciente: 853 Probabilidade: 0.002 verde\n",
      "Paciente: 854 Probabilidade: 0.003 verde\n",
      "Paciente: 855 Probabilidade: 0.004 verde\n",
      "Paciente: 856 Probabilidade: 0.05 amarelo\n",
      "Paciente: 857 Probabilidade: 0.004 verde\n",
      "Paciente: 858 Probabilidade: 0.426 vermelho\n",
      "Paciente: 859 Probabilidade: 0.449 vermelho\n",
      "Paciente: 860 Probabilidade: 0.003 verde\n",
      "Paciente: 861 Probabilidade: 0.003 verde\n",
      "Paciente: 862 Probabilidade: 0.006 verde\n",
      "Paciente: 863 Probabilidade: 0.005 verde\n",
      "Paciente: 864 Probabilidade: 0.7 vermelho\n",
      "Paciente: 865 Probabilidade: 0.005 verde\n",
      "Paciente: 866 Probabilidade: 0.006 verde\n",
      "Paciente: 867 Probabilidade: 0.006 verde\n",
      "Paciente: 868 Probabilidade: 0.003 verde\n",
      "Paciente: 869 Probabilidade: 0.258 amarelo\n",
      "Paciente: 870 Probabilidade: 0.02 verde\n",
      "Paciente: 871 Probabilidade: 0.019 verde\n",
      "Paciente: 872 Probabilidade: 0.353 vermelho\n",
      "Paciente: 873 Probabilidade: 0.349 vermelho\n",
      "Paciente: 874 Probabilidade: 0.011 verde\n",
      "Paciente: 875 Probabilidade: 0.189 amarelo\n",
      "Paciente: 876 Probabilidade: 0.004 verde\n",
      "Paciente: 877 Probabilidade: 0.23 amarelo\n",
      "Paciente: 878 Probabilidade: 0.344 vermelho\n",
      "Paciente: 879 Probabilidade: 0.002 verde\n",
      "Paciente: 880 Probabilidade: 0.002 verde\n",
      "Paciente: 881 Probabilidade: 0.006 verde\n",
      "Paciente: 882 Probabilidade: 0.002 verde\n",
      "Paciente: 883 Probabilidade: 0.18 amarelo\n",
      "Paciente: 884 Probabilidade: 0.7 vermelho\n",
      "Paciente: 885 Probabilidade: 0.009 verde\n",
      "Paciente: 886 Probabilidade: 0.003 verde\n",
      "Paciente: 887 Probabilidade: 0.006 verde\n",
      "Paciente: 888 Probabilidade: 0.173 amarelo\n",
      "Paciente: 889 Probabilidade: 0.067 amarelo\n",
      "Paciente: 890 Probabilidade: 0.002 verde\n",
      "Paciente: 891 Probabilidade: 0.003 verde\n",
      "Paciente: 892 Probabilidade: 0.006 verde\n",
      "Paciente: 893 Probabilidade: 0.505 vermelho\n",
      "Paciente: 894 Probabilidade: 0.005 verde\n",
      "Paciente: 895 Probabilidade: 0.071 amarelo\n",
      "Paciente: 896 Probabilidade: 0.005 verde\n",
      "Paciente: 897 Probabilidade: 0.001 verde\n",
      "Paciente: 898 Probabilidade: 0.005 verde\n",
      "Paciente: 899 Probabilidade: 0.012 verde\n",
      "Paciente: 900 Probabilidade: 0.0 verde\n",
      "Paciente: 901 Probabilidade: 0.006 verde\n",
      "Paciente: 902 Probabilidade: 0.024 verde\n",
      "Paciente: 903 Probabilidade: 0.002 verde\n",
      "Paciente: 904 Probabilidade: 0.008 verde\n",
      "Paciente: 905 Probabilidade: 0.527 vermelho\n",
      "Paciente: 906 Probabilidade: 0.382 vermelho\n",
      "Paciente: 907 Probabilidade: 0.153 amarelo\n",
      "Paciente: 908 Probabilidade: 0.628 vermelho\n",
      "Paciente: 909 Probabilidade: 0.03 verde\n",
      "Paciente: 910 Probabilidade: 0.003 verde\n",
      "Paciente: 911 Probabilidade: 0.006 verde\n",
      "Paciente: 912 Probabilidade: 0.004 verde\n",
      "Paciente: 913 Probabilidade: 0.144 amarelo\n",
      "Paciente: 914 Probabilidade: 0.009 verde\n",
      "Paciente: 915 Probabilidade: 0.023 verde\n",
      "Paciente: 916 Probabilidade: 0.349 vermelho\n",
      "Paciente: 917 Probabilidade: 0.404 vermelho\n",
      "Paciente: 918 Probabilidade: 0.007 verde\n",
      "Paciente: 919 Probabilidade: 0.47 vermelho\n",
      "Paciente: 920 Probabilidade: 0.006 verde\n",
      "Paciente: 921 Probabilidade: 0.505 vermelho\n",
      "Paciente: 922 Probabilidade: 0.009 verde\n",
      "Paciente: 923 Probabilidade: 0.002 verde\n",
      "Paciente: 924 Probabilidade: 0.003 verde\n",
      "Paciente: 925 Probabilidade: 0.143 amarelo\n",
      "Paciente: 926 Probabilidade: 0.513 vermelho\n",
      "Paciente: 927 Probabilidade: 0.628 vermelho\n",
      "Paciente: 928 Probabilidade: 0.328 vermelho\n",
      "Paciente: 929 Probabilidade: 0.013 verde\n",
      "Paciente: 930 Probabilidade: 0.003 verde\n",
      "Paciente: 931 Probabilidade: 0.002 verde\n",
      "Paciente: 932 Probabilidade: 0.23 amarelo\n",
      "Paciente: 933 Probabilidade: 0.008 verde\n",
      "Paciente: 934 Probabilidade: 0.005 verde\n",
      "Paciente: 935 Probabilidade: 0.353 vermelho\n",
      "Paciente: 936 Probabilidade: 0.007 verde\n",
      "Paciente: 937 Probabilidade: 0.002 verde\n",
      "Paciente: 938 Probabilidade: 0.001 verde\n",
      "Paciente: 939 Probabilidade: 0.002 verde\n",
      "Paciente: 940 Probabilidade: 0.415 vermelho\n",
      "Paciente: 941 Probabilidade: 0.162 amarelo\n",
      "Paciente: 942 Probabilidade: 0.003 verde\n",
      "Paciente: 943 Probabilidade: 0.009 verde\n",
      "Paciente: 944 Probabilidade: 0.003 verde\n",
      "Paciente: 945 Probabilidade: 0.024 verde\n",
      "Paciente: 946 Probabilidade: 0.002 verde\n",
      "Paciente: 947 Probabilidade: 0.006 verde\n",
      "Paciente: 948 Probabilidade: 0.002 verde\n",
      "Paciente: 949 Probabilidade: 0.006 verde\n",
      "Paciente: 950 Probabilidade: 0.353 vermelho\n",
      "Paciente: 951 Probabilidade: 0.001 verde\n",
      "Paciente: 952 Probabilidade: 0.005 verde\n",
      "Paciente: 953 Probabilidade: 0.004 verde\n",
      "Paciente: 954 Probabilidade: 0.011 verde\n",
      "Paciente: 955 Probabilidade: 0.5 vermelho\n",
      "Paciente: 956 Probabilidade: 0.003 verde\n",
      "Paciente: 957 Probabilidade: 0.004 verde\n",
      "Paciente: 958 Probabilidade: 0.23 amarelo\n",
      "Paciente: 959 Probabilidade: 0.761 vermelho\n",
      "Paciente: 960 Probabilidade: 0.003 verde\n",
      "Paciente: 961 Probabilidade: 0.002 verde\n",
      "Paciente: 962 Probabilidade: 0.004 verde\n",
      "Paciente: 963 Probabilidade: 0.003 verde\n",
      "Paciente: 964 Probabilidade: 0.02 verde\n",
      "Paciente: 965 Probabilidade: 0.002 verde\n",
      "Paciente: 966 Probabilidade: 0.003 verde\n",
      "Paciente: 967 Probabilidade: 0.006 verde\n",
      "Paciente: 968 Probabilidade: 0.006 verde\n",
      "Paciente: 969 Probabilidade: 0.009 verde\n",
      "Paciente: 970 Probabilidade: 0.328 vermelho\n",
      "Paciente: 971 Probabilidade: 0.413 vermelho\n",
      "Paciente: 972 Probabilidade: 0.004 verde\n",
      "Paciente: 973 Probabilidade: 0.664 vermelho\n",
      "Paciente: 974 Probabilidade: 0.23 amarelo\n",
      "Paciente: 975 Probabilidade: 0.003 verde\n",
      "Paciente: 976 Probabilidade: 0.006 verde\n",
      "Paciente: 977 Probabilidade: 0.005 verde\n",
      "Paciente: 978 Probabilidade: 0.019 verde\n",
      "Paciente: 979 Probabilidade: 0.158 amarelo\n",
      "Paciente: 980 Probabilidade: 0.645 vermelho\n",
      "Paciente: 981 Probabilidade: 0.01 verde\n",
      "Paciente: 982 Probabilidade: 0.003 verde\n",
      "Paciente: 983 Probabilidade: 0.791 vermelho\n",
      "Paciente: 984 Probabilidade: 0.009 verde\n",
      "Paciente: 985 Probabilidade: 0.001 verde\n",
      "Paciente: 986 Probabilidade: 0.007 verde\n",
      "Paciente: 987 Probabilidade: 0.258 amarelo\n",
      "Paciente: 988 Probabilidade: 0.004 verde\n",
      "Paciente: 989 Probabilidade: 0.002 verde\n",
      "Paciente: 990 Probabilidade: 0.744 vermelho\n",
      "Paciente: 991 Probabilidade: 0.74 vermelho\n",
      "Paciente: 992 Probabilidade: 0.03 verde\n",
      "Paciente: 993 Probabilidade: 0.004 verde\n",
      "Paciente: 994 Probabilidade: 0.002 verde\n",
      "Paciente: 995 Probabilidade: 0.016 verde\n",
      "Paciente: 996 Probabilidade: 0.003 verde\n",
      "Paciente: 997 Probabilidade: 0.358 vermelho\n",
      "Paciente: 998 Probabilidade: 0.003 verde\n",
      "Paciente: 999 Probabilidade: 0.366 vermelho\n",
      "Paciente: 1000 Probabilidade: 0.002 verde\n",
      "Paciente: 1001 Probabilidade: 0.005 verde\n",
      "Paciente: 1002 Probabilidade: 0.006 verde\n",
      "Paciente: 1003 Probabilidade: 0.23 amarelo\n",
      "Paciente: 1004 Probabilidade: 0.003 verde\n",
      "Paciente: 1005 Probabilidade: 0.153 amarelo\n",
      "Paciente: 1006 Probabilidade: 0.012 verde\n",
      "Paciente: 1007 Probabilidade: 0.002 verde\n",
      "Paciente: 1008 Probabilidade: 0.006 verde\n",
      "Paciente: 1009 Probabilidade: 0.664 vermelho\n",
      "Paciente: 1010 Probabilidade: 0.0 verde\n",
      "Paciente: 1011 Probabilidade: 0.013 verde\n",
      "Paciente: 1012 Probabilidade: 0.349 vermelho\n",
      "Paciente: 1013 Probabilidade: 0.001 verde\n",
      "Paciente: 1014 Probabilidade: 0.449 vermelho\n",
      "Paciente: 1015 Probabilidade: 0.002 verde\n",
      "Paciente: 1016 Probabilidade: 0.003 verde\n",
      "Paciente: 1017 Probabilidade: 0.002 verde\n",
      "Paciente: 1018 Probabilidade: 0.002 verde\n",
      "Paciente: 1019 Probabilidade: 0.005 verde\n",
      "Paciente: 1020 Probabilidade: 0.003 verde\n",
      "Paciente: 1021 Probabilidade: 0.004 verde\n",
      "Paciente: 1022 Probabilidade: 0.003 verde\n",
      "Paciente: 1023 Probabilidade: 0.012 verde\n",
      "Paciente: 1024 Probabilidade: 0.449 vermelho\n",
      "Paciente: 1025 Probabilidade: 0.005 verde\n",
      "Paciente: 1026 Probabilidade: 0.003 verde\n",
      "Paciente: 1027 Probabilidade: 0.328 vermelho\n",
      "Paciente: 1028 Probabilidade: 0.207 amarelo\n",
      "Paciente: 1029 Probabilidade: 0.005 verde\n",
      "Paciente: 1030 Probabilidade: 0.628 vermelho\n",
      "Paciente: 1031 Probabilidade: 0.02 verde\n",
      "Paciente: 1032 Probabilidade: 0.18 amarelo\n",
      "Paciente: 1033 Probabilidade: 0.003 verde\n",
      "Paciente: 1034 Probabilidade: 0.001 verde\n",
      "Paciente: 1035 Probabilidade: 0.234 amarelo\n",
      "Paciente: 1036 Probabilidade: 0.001 verde\n",
      "Paciente: 1037 Probabilidade: 0.74 vermelho\n",
      "Paciente: 1038 Probabilidade: 0.628 vermelho\n",
      "Paciente: 1039 Probabilidade: 0.004 verde\n",
      "Paciente: 1040 Probabilidade: 0.003 verde\n",
      "Paciente: 1041 Probabilidade: 0.001 verde\n",
      "Paciente: 1042 Probabilidade: 0.004 verde\n",
      "Paciente: 1043 Probabilidade: 0.628 vermelho\n",
      "Paciente: 1044 Probabilidade: 0.004 verde\n",
      "Paciente: 1045 Probabilidade: 0.169 amarelo\n",
      "Paciente: 1046 Probabilidade: 0.171 amarelo\n",
      "Paciente: 1047 Probabilidade: 0.23 amarelo\n",
      "Paciente: 1048 Probabilidade: 0.002 verde\n",
      "Paciente: 1049 Probabilidade: 0.003 verde\n",
      "Paciente: 1050 Probabilidade: 0.059 amarelo\n",
      "Paciente: 1051 Probabilidade: 0.172 amarelo\n",
      "Paciente: 1052 Probabilidade: 0.47 vermelho\n",
      "Paciente: 1053 Probabilidade: 0.009 verde\n",
      "Paciente: 1054 Probabilidade: 0.002 verde\n",
      "Paciente: 1055 Probabilidade: 0.005 verde\n",
      "Paciente: 1056 Probabilidade: 0.003 verde\n",
      "Paciente: 1057 Probabilidade: 0.001 verde\n",
      "Paciente: 1058 Probabilidade: 0.198 amarelo\n",
      "Paciente: 1059 Probabilidade: 0.002 verde\n",
      "Paciente: 1060 Probabilidade: 0.007 verde\n",
      "Paciente: 1061 Probabilidade: 0.002 verde\n",
      "Paciente: 1062 Probabilidade: 0.288 amarelo\n",
      "Paciente: 1063 Probabilidade: 0.002 verde\n",
      "Paciente: 1064 Probabilidade: 0.004 verde\n",
      "Paciente: 1065 Probabilidade: 0.002 verde\n",
      "Paciente: 1066 Probabilidade: 0.143 amarelo\n",
      "Paciente: 1067 Probabilidade: 0.007 verde\n",
      "Paciente: 1068 Probabilidade: 0.194 amarelo\n",
      "Paciente: 1069 Probabilidade: 0.23 amarelo\n",
      "Paciente: 1070 Probabilidade: 0.264 amarelo\n",
      "Paciente: 1071 Probabilidade: 0.003 verde\n",
      "Paciente: 1072 Probabilidade: 0.004 verde\n",
      "Paciente: 1073 Probabilidade: 0.016 verde\n",
      "Paciente: 1074 Probabilidade: 0.004 verde\n",
      "Paciente: 1075 Probabilidade: 0.003 verde\n",
      "Paciente: 1076 Probabilidade: 0.004 verde\n",
      "Paciente: 1077 Probabilidade: 0.068 amarelo\n",
      "Paciente: 1078 Probabilidade: 0.004 verde\n",
      "Paciente: 1079 Probabilidade: 0.019 verde\n",
      "Paciente: 1080 Probabilidade: 0.006 verde\n",
      "Paciente: 1081 Probabilidade: 0.16 amarelo\n",
      "Paciente: 1082 Probabilidade: 0.003 verde\n",
      "Paciente: 1083 Probabilidade: 0.009 verde\n",
      "Paciente: 1084 Probabilidade: 0.009 verde\n",
      "Paciente: 1085 Probabilidade: 0.002 verde\n",
      "Paciente: 1086 Probabilidade: 0.005 verde\n",
      "Paciente: 1087 Probabilidade: 0.23 amarelo\n",
      "Paciente: 1088 Probabilidade: 0.019 verde\n",
      "Paciente: 1089 Probabilidade: 0.009 verde\n",
      "Paciente: 1090 Probabilidade: 0.009 verde\n",
      "Paciente: 1091 Probabilidade: 0.001 verde\n",
      "Paciente: 1092 Probabilidade: 0.0 verde\n",
      "Paciente: 1093 Probabilidade: 0.024 verde\n",
      "Paciente: 1094 Probabilidade: 0.019 verde\n",
      "Paciente: 1095 Probabilidade: 0.003 verde\n",
      "Paciente: 1096 Probabilidade: 0.005 verde\n",
      "Paciente: 1097 Probabilidade: 0.007 verde\n",
      "Paciente: 1098 Probabilidade: 0.003 verde\n",
      "Paciente: 1099 Probabilidade: 0.009 verde\n",
      "Paciente: 1100 Probabilidade: 0.006 verde\n",
      "Paciente: 1101 Probabilidade: 0.003 verde\n",
      "Paciente: 1102 Probabilidade: 0.008 verde\n",
      "Paciente: 1103 Probabilidade: 0.009 verde\n",
      "Paciente: 1104 Probabilidade: 0.149 amarelo\n",
      "Paciente: 1105 Probabilidade: 0.004 verde\n",
      "Paciente: 1106 Probabilidade: 0.0 verde\n",
      "Paciente: 1107 Probabilidade: 0.005 verde\n",
      "Paciente: 1108 Probabilidade: 0.007 verde\n",
      "Paciente: 1109 Probabilidade: 0.01 verde\n",
      "Paciente: 1110 Probabilidade: 0.645 vermelho\n",
      "Paciente: 1111 Probabilidade: 0.002 verde\n",
      "Paciente: 1112 Probabilidade: 0.002 verde\n",
      "Paciente: 1113 Probabilidade: 0.009 verde\n",
      "Paciente: 1114 Probabilidade: 0.004 verde\n",
      "Paciente: 1115 Probabilidade: 0.008 verde\n",
      "Paciente: 1116 Probabilidade: 0.019 verde\n",
      "Paciente: 1117 Probabilidade: 0.005 verde\n",
      "Paciente: 1118 Probabilidade: 0.003 verde\n",
      "Paciente: 1119 Probabilidade: 0.0 verde\n",
      "Paciente: 1120 Probabilidade: 0.007 verde\n",
      "Paciente: 1121 Probabilidade: 0.004 verde\n",
      "Paciente: 1122 Probabilidade: 0.321 vermelho\n",
      "Paciente: 1123 Probabilidade: 0.012 verde\n",
      "Paciente: 1124 Probabilidade: 0.007 verde\n",
      "Paciente: 1125 Probabilidade: 0.007 verde\n",
      "Paciente: 1126 Probabilidade: 0.002 verde\n",
      "Paciente: 1127 Probabilidade: 0.353 vermelho\n",
      "Paciente: 1128 Probabilidade: 0.631 vermelho\n",
      "Paciente: 1129 Probabilidade: 0.003 verde\n",
      "Paciente: 1130 Probabilidade: 0.002 verde\n",
      "Paciente: 1131 Probabilidade: 0.003 verde\n",
      "Paciente: 1132 Probabilidade: 0.002 verde\n",
      "Paciente: 1133 Probabilidade: 0.708 vermelho\n",
      "Paciente: 1134 Probabilidade: 0.465 vermelho\n",
      "Paciente: 1135 Probabilidade: 0.006 verde\n",
      "Paciente: 1136 Probabilidade: 0.006 verde\n",
      "Paciente: 1137 Probabilidade: 0.002 verde\n",
      "Paciente: 1138 Probabilidade: 0.198 amarelo\n",
      "Paciente: 1139 Probabilidade: 0.019 verde\n",
      "Paciente: 1140 Probabilidade: 0.004 verde\n",
      "Paciente: 1141 Probabilidade: 0.006 verde\n",
      "Paciente: 1142 Probabilidade: 0.004 verde\n",
      "Paciente: 1143 Probabilidade: 0.107 amarelo\n",
      "Paciente: 1144 Probabilidade: 0.003 verde\n",
      "Paciente: 1145 Probabilidade: 0.566 vermelho\n",
      "Paciente: 1146 Probabilidade: 0.005 verde\n",
      "Paciente: 1147 Probabilidade: 0.002 verde\n",
      "Paciente: 1148 Probabilidade: 0.34 vermelho\n",
      "Paciente: 1149 Probabilidade: 0.007 verde\n",
      "Paciente: 1150 Probabilidade: 0.002 verde\n",
      "Paciente: 1151 Probabilidade: 0.7 vermelho\n",
      "Paciente: 1152 Probabilidade: 0.002 verde\n",
      "Paciente: 1153 Probabilidade: 0.005 verde\n",
      "Paciente: 1154 Probabilidade: 0.015 verde\n",
      "Paciente: 1155 Probabilidade: 0.002 verde\n",
      "Paciente: 1156 Probabilidade: 0.505 vermelho\n",
      "Paciente: 1157 Probabilidade: 0.019 verde\n",
      "Paciente: 1158 Probabilidade: 0.132 amarelo\n",
      "Paciente: 1159 Probabilidade: 0.003 verde\n",
      "Paciente: 1160 Probabilidade: 0.628 vermelho\n",
      "Paciente: 1161 Probabilidade: 0.368 vermelho\n",
      "Paciente: 1162 Probabilidade: 0.002 verde\n",
      "Paciente: 1163 Probabilidade: 0.628 vermelho\n",
      "Paciente: 1164 Probabilidade: 0.008 verde\n",
      "Paciente: 1165 Probabilidade: 0.115 amarelo\n",
      "Paciente: 1166 Probabilidade: 0.003 verde\n",
      "Paciente: 1167 Probabilidade: 0.015 verde\n",
      "Paciente: 1168 Probabilidade: 0.701 vermelho\n",
      "Paciente: 1169 Probabilidade: 0.007 verde\n",
      "Paciente: 1170 Probabilidade: 0.009 verde\n",
      "Paciente: 1171 Probabilidade: 0.006 verde\n",
      "Paciente: 1172 Probabilidade: 0.003 verde\n",
      "Paciente: 1173 Probabilidade: 0.211 amarelo\n",
      "Paciente: 1174 Probabilidade: 0.525 vermelho\n",
      "Paciente: 1175 Probabilidade: 0.006 verde\n",
      "Paciente: 1176 Probabilidade: 0.141 amarelo\n",
      "Paciente: 1177 Probabilidade: 0.002 verde\n",
      "Paciente: 1178 Probabilidade: 0.012 verde\n",
      "Paciente: 1179 Probabilidade: 0.004 verde\n",
      "Paciente: 1180 Probabilidade: 0.006 verde\n",
      "Paciente: 1181 Probabilidade: 0.037 verde\n",
      "Paciente: 1182 Probabilidade: 0.006 verde\n",
      "Paciente: 1183 Probabilidade: 0.415 vermelho\n",
      "Paciente: 1184 Probabilidade: 0.002 verde\n",
      "Paciente: 1185 Probabilidade: 0.349 vermelho\n",
      "Paciente: 1186 Probabilidade: 0.005 verde\n",
      "Paciente: 1187 Probabilidade: 0.002 verde\n",
      "Paciente: 1188 Probabilidade: 0.002 verde\n",
      "Paciente: 1189 Probabilidade: 0.084 amarelo\n",
      "Paciente: 1190 Probabilidade: 0.003 verde\n",
      "Paciente: 1191 Probabilidade: 0.744 vermelho\n",
      "Paciente: 1192 Probabilidade: 0.004 verde\n",
      "Paciente: 1193 Probabilidade: 0.004 verde\n",
      "Paciente: 1194 Probabilidade: 0.003 verde\n",
      "Paciente: 1195 Probabilidade: 0.024 verde\n",
      "Paciente: 1196 Probabilidade: 0.001 verde\n",
      "Paciente: 1197 Probabilidade: 0.735 vermelho\n",
      "Paciente: 1198 Probabilidade: 0.006 verde\n",
      "Paciente: 1199 Probabilidade: 0.442 vermelho\n",
      "Paciente: 1200 Probabilidade: 0.007 verde\n",
      "Paciente: 1201 Probabilidade: 0.009 verde\n",
      "Paciente: 1202 Probabilidade: 0.003 verde\n",
      "Paciente: 1203 Probabilidade: 0.47 vermelho\n",
      "Paciente: 1204 Probabilidade: 0.004 verde\n",
      "Paciente: 1205 Probabilidade: 0.008 verde\n",
      "Paciente: 1206 Probabilidade: 0.645 vermelho\n",
      "Paciente: 1207 Probabilidade: 0.006 verde\n",
      "Paciente: 1208 Probabilidade: 0.449 vermelho\n",
      "Paciente: 1209 Probabilidade: 0.007 verde\n",
      "Paciente: 1210 Probabilidade: 0.002 verde\n",
      "Paciente: 1211 Probabilidade: 0.005 verde\n",
      "Paciente: 1212 Probabilidade: 0.184 amarelo\n",
      "Paciente: 1213 Probabilidade: 0.398 vermelho\n",
      "Paciente: 1214 Probabilidade: 0.005 verde\n",
      "Paciente: 1215 Probabilidade: 0.002 verde\n",
      "Paciente: 1216 Probabilidade: 0.113 amarelo\n",
      "Paciente: 1217 Probabilidade: 0.004 verde\n",
      "Paciente: 1218 Probabilidade: 0.006 verde\n",
      "Paciente: 1219 Probabilidade: 0.002 verde\n",
      "Paciente: 1220 Probabilidade: 0.005 verde\n",
      "Paciente: 1221 Probabilidade: 0.505 vermelho\n",
      "Paciente: 1222 Probabilidade: 0.7 vermelho\n",
      "Paciente: 1223 Probabilidade: 0.628 vermelho\n",
      "Paciente: 1224 Probabilidade: 0.002 verde\n",
      "Paciente: 1225 Probabilidade: 0.003 verde\n",
      "Paciente: 1226 Probabilidade: 0.005 verde\n",
      "Paciente: 1227 Probabilidade: 0.003 verde\n",
      "Paciente: 1228 Probabilidade: 0.013 verde\n",
      "Paciente: 1229 Probabilidade: 0.207 amarelo\n",
      "Paciente: 1230 Probabilidade: 0.135 amarelo\n",
      "Paciente: 1231 Probabilidade: 0.004 verde\n",
      "Paciente: 1232 Probabilidade: 0.002 verde\n",
      "Paciente: 1233 Probabilidade: 0.352 vermelho\n",
      "Paciente: 1234 Probabilidade: 0.006 verde\n",
      "Paciente: 1235 Probabilidade: 0.003 verde\n",
      "Paciente: 1236 Probabilidade: 0.209 amarelo\n",
      "Paciente: 1237 Probabilidade: 0.008 verde\n",
      "Paciente: 1238 Probabilidade: 0.002 verde\n",
      "Paciente: 1239 Probabilidade: 0.004 verde\n",
      "Paciente: 1240 Probabilidade: 0.172 amarelo\n",
      "Paciente: 1241 Probabilidade: 0.26 amarelo\n",
      "Paciente: 1242 Probabilidade: 0.242 amarelo\n",
      "Paciente: 1243 Probabilidade: 0.404 vermelho\n",
      "Paciente: 1244 Probabilidade: 0.006 verde\n",
      "Paciente: 1245 Probabilidade: 0.002 verde\n",
      "Paciente: 1246 Probabilidade: 0.007 verde\n",
      "Paciente: 1247 Probabilidade: 0.62 vermelho\n",
      "Paciente: 1248 Probabilidade: 0.003 verde\n",
      "Paciente: 1249 Probabilidade: 0.003 verde\n",
      "Paciente: 1250 Probabilidade: 0.002 verde\n",
      "Paciente: 1251 Probabilidade: 0.005 verde\n",
      "Paciente: 1252 Probabilidade: 0.258 amarelo\n",
      "Paciente: 1253 Probabilidade: 0.004 verde\n",
      "Paciente: 1254 Probabilidade: 0.349 vermelho\n",
      "Paciente: 1255 Probabilidade: 0.009 verde\n",
      "Paciente: 1256 Probabilidade: 0.006 verde\n",
      "Paciente: 1257 Probabilidade: 0.269 amarelo\n",
      "Paciente: 1258 Probabilidade: 0.002 verde\n",
      "Paciente: 1259 Probabilidade: 0.449 vermelho\n",
      "Paciente: 1260 Probabilidade: 0.231 amarelo\n",
      "Paciente: 1261 Probabilidade: 0.002 verde\n",
      "Paciente: 1262 Probabilidade: 0.012 verde\n",
      "Paciente: 1263 Probabilidade: 0.267 amarelo\n",
      "Paciente: 1264 Probabilidade: 0.002 verde\n",
      "Paciente: 1265 Probabilidade: 0.005 verde\n",
      "Paciente: 1266 Probabilidade: 0.003 verde\n",
      "Paciente: 1267 Probabilidade: 0.005 verde\n",
      "Paciente: 1268 Probabilidade: 0.002 verde\n",
      "Paciente: 1269 Probabilidade: 0.005 verde\n",
      "Paciente: 1270 Probabilidade: 0.007 verde\n",
      "Paciente: 1271 Probabilidade: 0.006 verde\n",
      "Paciente: 1272 Probabilidade: 0.002 verde\n",
      "Paciente: 1273 Probabilidade: 0.002 verde\n",
      "Paciente: 1274 Probabilidade: 0.004 verde\n",
      "Paciente: 1275 Probabilidade: 0.019 verde\n",
      "Paciente: 1276 Probabilidade: 0.505 vermelho\n",
      "Paciente: 1277 Probabilidade: 0.0 verde\n",
      "Paciente: 1278 Probabilidade: 0.004 verde\n",
      "Paciente: 1279 Probabilidade: 0.004 verde\n",
      "Paciente: 1280 Probabilidade: 0.064 amarelo\n",
      "Paciente: 1281 Probabilidade: 0.3 amarelo\n",
      "Paciente: 1282 Probabilidade: 0.012 verde\n",
      "Paciente: 1283 Probabilidade: 0.006 verde\n",
      "Paciente: 1284 Probabilidade: 0.002 verde\n",
      "Paciente: 1285 Probabilidade: 0.003 verde\n",
      "Paciente: 1286 Probabilidade: 0.061 amarelo\n",
      "Paciente: 1287 Probabilidade: 0.004 verde\n",
      "Paciente: 1288 Probabilidade: 0.003 verde\n",
      "Paciente: 1289 Probabilidade: 0.005 verde\n",
      "Paciente: 1290 Probabilidade: 0.006 verde\n",
      "Paciente: 1291 Probabilidade: 0.344 vermelho\n",
      "Paciente: 1292 Probabilidade: 0.23 amarelo\n",
      "Paciente: 1293 Probabilidade: 0.02 verde\n",
      "Paciente: 1294 Probabilidade: 0.005 verde\n",
      "Paciente: 1295 Probabilidade: 0.215 amarelo\n",
      "Paciente: 1296 Probabilidade: 0.009 verde\n",
      "Paciente: 1297 Probabilidade: 0.552 vermelho\n",
      "Paciente: 1298 Probabilidade: 0.024 verde\n",
      "Paciente: 1299 Probabilidade: 0.003 verde\n",
      "Paciente: 1300 Probabilidade: 0.018 verde\n",
      "Paciente: 1301 Probabilidade: 0.009 verde\n",
      "Paciente: 1302 Probabilidade: 0.01 verde\n",
      "Paciente: 1303 Probabilidade: 0.003 verde\n",
      "Paciente: 1304 Probabilidade: 0.318 vermelho\n",
      "Paciente: 1305 Probabilidade: 0.003 verde\n",
      "Paciente: 1306 Probabilidade: 0.001 verde\n",
      "Paciente: 1307 Probabilidade: 0.006 verde\n",
      "Paciente: 1308 Probabilidade: 0.019 verde\n",
      "Paciente: 1309 Probabilidade: 0.153 amarelo\n",
      "Paciente: 1310 Probabilidade: 0.23 amarelo\n",
      "Paciente: 1311 Probabilidade: 0.004 verde\n",
      "Paciente: 1312 Probabilidade: 0.005 verde\n",
      "Paciente: 1313 Probabilidade: 0.003 verde\n",
      "Paciente: 1314 Probabilidade: 0.002 verde\n",
      "Paciente: 1315 Probabilidade: 0.288 amarelo\n",
      "Paciente: 1316 Probabilidade: 0.003 verde\n",
      "Paciente: 1317 Probabilidade: 0.003 verde\n",
      "Paciente: 1318 Probabilidade: 0.363 vermelho\n",
      "Paciente: 1319 Probabilidade: 0.005 verde\n",
      "Paciente: 1320 Probabilidade: 0.172 amarelo\n",
      "Paciente: 1321 Probabilidade: 0.004 verde\n",
      "Paciente: 1322 Probabilidade: 0.003 verde\n",
      "Paciente: 1323 Probabilidade: 0.541 vermelho\n",
      "Paciente: 1324 Probabilidade: 0.003 verde\n",
      "Paciente: 1325 Probabilidade: 0.172 amarelo\n",
      "Paciente: 1326 Probabilidade: 0.002 verde\n",
      "Paciente: 1327 Probabilidade: 0.186 amarelo\n",
      "Paciente: 1328 Probabilidade: 0.008 verde\n",
      "Paciente: 1329 Probabilidade: 0.002 verde\n",
      "Paciente: 1330 Probabilidade: 0.002 verde\n",
      "Paciente: 1331 Probabilidade: 0.448 vermelho\n",
      "Paciente: 1332 Probabilidade: 0.001 verde\n",
      "Paciente: 1333 Probabilidade: 0.201 amarelo\n",
      "Paciente: 1334 Probabilidade: 0.007 verde\n",
      "Paciente: 1335 Probabilidade: 0.002 verde\n",
      "Paciente: 1336 Probabilidade: 0.004 verde\n",
      "Paciente: 1337 Probabilidade: 0.645 vermelho\n",
      "Paciente: 1338 Probabilidade: 0.001 verde\n",
      "Paciente: 1339 Probabilidade: 0.004 verde\n",
      "Paciente: 1340 Probabilidade: 0.003 verde\n",
      "Paciente: 1341 Probabilidade: 0.003 verde\n",
      "Paciente: 1342 Probabilidade: 0.156 amarelo\n",
      "Paciente: 1343 Probabilidade: 0.23 amarelo\n",
      "Paciente: 1344 Probabilidade: 0.003 verde\n",
      "Paciente: 1345 Probabilidade: 0.349 vermelho\n",
      "Paciente: 1346 Probabilidade: 0.198 amarelo\n",
      "Paciente: 1347 Probabilidade: 0.064 amarelo\n",
      "Paciente: 1348 Probabilidade: 0.003 verde\n",
      "Paciente: 1349 Probabilidade: 0.141 amarelo\n",
      "Paciente: 1350 Probabilidade: 0.002 verde\n",
      "Paciente: 1351 Probabilidade: 0.006 verde\n",
      "Paciente: 1352 Probabilidade: 0.723 vermelho\n",
      "Paciente: 1353 Probabilidade: 0.012 verde\n",
      "Paciente: 1354 Probabilidade: 0.012 verde\n",
      "Paciente: 1355 Probabilidade: 0.005 verde\n",
      "Paciente: 1356 Probabilidade: 0.006 verde\n",
      "Paciente: 1357 Probabilidade: 0.006 verde\n",
      "Paciente: 1358 Probabilidade: 0.294 amarelo\n",
      "Paciente: 1359 Probabilidade: 0.006 verde\n",
      "Paciente: 1360 Probabilidade: 0.013 verde\n",
      "Paciente: 1361 Probabilidade: 0.004 verde\n",
      "Paciente: 1362 Probabilidade: 0.004 verde\n",
      "Paciente: 1363 Probabilidade: 0.078 amarelo\n",
      "Paciente: 1364 Probabilidade: 0.012 verde\n",
      "Paciente: 1365 Probabilidade: 0.001 verde\n",
      "Paciente: 1366 Probabilidade: 0.004 verde\n",
      "Paciente: 1367 Probabilidade: 0.002 verde\n",
      "Paciente: 1368 Probabilidade: 0.003 verde\n",
      "Paciente: 1369 Probabilidade: 0.258 amarelo\n",
      "Paciente: 1370 Probabilidade: 0.007 verde\n",
      "Paciente: 1371 Probabilidade: 0.076 amarelo\n",
      "Paciente: 1372 Probabilidade: 0.171 amarelo\n",
      "Paciente: 1373 Probabilidade: 0.002 verde\n",
      "Paciente: 1374 Probabilidade: 0.139 amarelo\n",
      "Paciente: 1375 Probabilidade: 0.005 verde\n",
      "Paciente: 1376 Probabilidade: 0.009 verde\n",
      "Paciente: 1377 Probabilidade: 0.02 verde\n",
      "Paciente: 1378 Probabilidade: 0.006 verde\n",
      "Paciente: 1379 Probabilidade: 0.025 verde\n",
      "Paciente: 1380 Probabilidade: 0.395 vermelho\n",
      "Paciente: 1381 Probabilidade: 0.03 verde\n",
      "Paciente: 1382 Probabilidade: 0.013 verde\n",
      "Paciente: 1383 Probabilidade: 0.123 amarelo\n",
      "Paciente: 1384 Probabilidade: 0.006 verde\n",
      "Paciente: 1385 Probabilidade: 0.005 verde\n",
      "Paciente: 1386 Probabilidade: 0.002 verde\n",
      "Paciente: 1387 Probabilidade: 0.352 vermelho\n",
      "Paciente: 1388 Probabilidade: 0.003 verde\n",
      "Paciente: 1389 Probabilidade: 0.002 verde\n",
      "Paciente: 1390 Probabilidade: 0.006 verde\n",
      "Paciente: 1391 Probabilidade: 0.004 verde\n",
      "Paciente: 1392 Probabilidade: 0.142 amarelo\n",
      "Paciente: 1393 Probabilidade: 0.412 vermelho\n",
      "Paciente: 1394 Probabilidade: 0.628 vermelho\n",
      "Paciente: 1395 Probabilidade: 0.181 amarelo\n",
      "Paciente: 1396 Probabilidade: 0.005 verde\n",
      "Paciente: 1397 Probabilidade: 0.186 amarelo\n",
      "Paciente: 1398 Probabilidade: 0.003 verde\n",
      "Paciente: 1399 Probabilidade: 0.001 verde\n",
      "Paciente: 1400 Probabilidade: 0.002 verde\n",
      "Paciente: 1401 Probabilidade: 0.002 verde\n",
      "Paciente: 1402 Probabilidade: 0.002 verde\n",
      "Paciente: 1403 Probabilidade: 0.002 verde\n",
      "Paciente: 1404 Probabilidade: 0.003 verde\n",
      "Paciente: 1405 Probabilidade: 0.002 verde\n",
      "Paciente: 1406 Probabilidade: 0.019 verde\n",
      "Paciente: 1407 Probabilidade: 0.003 verde\n",
      "Paciente: 1408 Probabilidade: 0.003 verde\n",
      "Paciente: 1409 Probabilidade: 0.395 vermelho\n",
      "Paciente: 1410 Probabilidade: 0.23 amarelo\n",
      "Paciente: 1411 Probabilidade: 0.002 verde\n",
      "Paciente: 1412 Probabilidade: 0.002 verde\n",
      "Paciente: 1413 Probabilidade: 0.001 verde\n",
      "Paciente: 1414 Probabilidade: 0.628 vermelho\n",
      "Paciente: 1415 Probabilidade: 0.007 verde\n",
      "Paciente: 1416 Probabilidade: 0.007 verde\n",
      "Paciente: 1417 Probabilidade: 0.127 amarelo\n",
      "Paciente: 1418 Probabilidade: 0.352 vermelho\n",
      "Paciente: 1419 Probabilidade: 0.505 vermelho\n",
      "Paciente: 1420 Probabilidade: 0.248 amarelo\n",
      "Paciente: 1421 Probabilidade: 0.003 verde\n",
      "Paciente: 1422 Probabilidade: 0.009 verde\n",
      "Paciente: 1423 Probabilidade: 0.003 verde\n",
      "Paciente: 1424 Probabilidade: 0.014 verde\n",
      "Paciente: 1425 Probabilidade: 0.003 verde\n",
      "Paciente: 1426 Probabilidade: 0.352 vermelho\n",
      "Paciente: 1427 Probabilidade: 0.006 verde\n",
      "Paciente: 1428 Probabilidade: 0.371 vermelho\n",
      "Paciente: 1429 Probabilidade: 0.274 amarelo\n",
      "Paciente: 1430 Probabilidade: 0.003 verde\n",
      "Paciente: 1431 Probabilidade: 0.003 verde\n",
      "Paciente: 1432 Probabilidade: 0.012 verde\n",
      "Paciente: 1433 Probabilidade: 0.004 verde\n",
      "Paciente: 1434 Probabilidade: 0.093 amarelo\n",
      "Paciente: 1435 Probabilidade: 0.004 verde\n",
      "Paciente: 1436 Probabilidade: 0.664 vermelho\n",
      "Paciente: 1437 Probabilidade: 0.137 amarelo\n",
      "Paciente: 1438 Probabilidade: 0.172 amarelo\n",
      "Paciente: 1439 Probabilidade: 0.349 vermelho\n",
      "Paciente: 1440 Probabilidade: 0.289 amarelo\n",
      "Paciente: 1441 Probabilidade: 0.001 verde\n",
      "Paciente: 1442 Probabilidade: 0.23 amarelo\n",
      "Paciente: 1443 Probabilidade: 0.005 verde\n",
      "Paciente: 1444 Probabilidade: 0.003 verde\n",
      "Paciente: 1445 Probabilidade: 0.155 amarelo\n",
      "Paciente: 1446 Probabilidade: 0.007 verde\n",
      "Paciente: 1447 Probabilidade: 0.505 vermelho\n",
      "Paciente: 1448 Probabilidade: 0.007 verde\n",
      "Paciente: 1449 Probabilidade: 0.051 amarelo\n",
      "Paciente: 1450 Probabilidade: 0.004 verde\n",
      "Paciente: 1451 Probabilidade: 0.349 vermelho\n",
      "Paciente: 1452 Probabilidade: 0.003 verde\n",
      "Paciente: 1453 Probabilidade: 0.002 verde\n",
      "Paciente: 1454 Probabilidade: 0.398 vermelho\n",
      "Paciente: 1455 Probabilidade: 0.858 vermelho\n",
      "Paciente: 1456 Probabilidade: 0.012 verde\n",
      "Paciente: 1457 Probabilidade: 0.002 verde\n",
      "Paciente: 1458 Probabilidade: 0.093 amarelo\n",
      "Paciente: 1459 Probabilidade: 0.004 verde\n",
      "Paciente: 1460 Probabilidade: 0.003 verde\n",
      "Paciente: 1461 Probabilidade: 0.01 verde\n",
      "Paciente: 1462 Probabilidade: 0.008 verde\n",
      "Paciente: 1463 Probabilidade: 0.123 amarelo\n",
      "Paciente: 1464 Probabilidade: 0.123 amarelo\n",
      "Paciente: 1465 Probabilidade: 0.002 verde\n",
      "Paciente: 1466 Probabilidade: 0.002 verde\n",
      "Paciente: 1467 Probabilidade: 0.006 verde\n",
      "Paciente: 1468 Probabilidade: 0.01 verde\n",
      "Paciente: 1469 Probabilidade: 0.051 amarelo\n",
      "Paciente: 1470 Probabilidade: 0.029 verde\n",
      "Paciente: 1471 Probabilidade: 0.242 amarelo\n",
      "Paciente: 1472 Probabilidade: 0.735 vermelho\n",
      "Paciente: 1473 Probabilidade: 0.019 verde\n",
      "Paciente: 1474 Probabilidade: 0.012 verde\n",
      "Paciente: 1475 Probabilidade: 0.003 verde\n",
      "Paciente: 1476 Probabilidade: 0.005 verde\n",
      "Paciente: 1477 Probabilidade: 0.006 verde\n",
      "Paciente: 1478 Probabilidade: 0.052 amarelo\n",
      "Paciente: 1479 Probabilidade: 0.628 vermelho\n",
      "Paciente: 1480 Probabilidade: 0.131 amarelo\n",
      "Paciente: 1481 Probabilidade: 0.005 verde\n",
      "Paciente: 1482 Probabilidade: 0.23 amarelo\n",
      "Paciente: 1483 Probabilidade: 0.002 verde\n",
      "Paciente: 1484 Probabilidade: 0.005 verde\n",
      "Paciente: 1485 Probabilidade: 0.002 verde\n",
      "Paciente: 1486 Probabilidade: 0.007 verde\n",
      "Paciente: 1487 Probabilidade: 0.03 verde\n",
      "Paciente: 1488 Probabilidade: 0.23 amarelo\n",
      "Paciente: 1489 Probabilidade: 0.002 verde\n",
      "Paciente: 1490 Probabilidade: 0.003 verde\n",
      "Paciente: 1491 Probabilidade: 0.226 amarelo\n",
      "Paciente: 1492 Probabilidade: 0.005 verde\n",
      "Paciente: 1493 Probabilidade: 0.002 verde\n",
      "Paciente: 1494 Probabilidade: 0.003 verde\n",
      "Paciente: 1495 Probabilidade: 0.281 amarelo\n",
      "Paciente: 1496 Probabilidade: 0.002 verde\n",
      "Paciente: 1497 Probabilidade: 0.272 amarelo\n",
      "Paciente: 1498 Probabilidade: 0.449 vermelho\n",
      "Paciente: 1499 Probabilidade: 0.271 amarelo\n",
      "Paciente: 1500 Probabilidade: 0.006 verde\n",
      "Paciente: 1501 Probabilidade: 0.004 verde\n",
      "Paciente: 1502 Probabilidade: 0.198 amarelo\n",
      "Paciente: 1503 Probabilidade: 0.004 verde\n",
      "Paciente: 1504 Probabilidade: 0.002 verde\n",
      "Paciente: 1505 Probabilidade: 0.088 amarelo\n",
      "Paciente: 1506 Probabilidade: 0.004 verde\n",
      "Paciente: 1507 Probabilidade: 0.01 verde\n",
      "Paciente: 1508 Probabilidade: 0.287 amarelo\n",
      "Paciente: 1509 Probabilidade: 0.004 verde\n",
      "Paciente: 1510 Probabilidade: 0.01 verde\n",
      "Paciente: 1511 Probabilidade: 0.003 verde\n",
      "Paciente: 1512 Probabilidade: 0.003 verde\n",
      "Paciente: 1513 Probabilidade: 0.004 verde\n",
      "Paciente: 1514 Probabilidade: 0.003 verde\n",
      "Paciente: 1515 Probabilidade: 0.006 verde\n",
      "Paciente: 1516 Probabilidade: 0.004 verde\n",
      "Paciente: 1517 Probabilidade: 0.215 amarelo\n",
      "Paciente: 1518 Probabilidade: 0.012 verde\n",
      "Paciente: 1519 Probabilidade: 0.002 verde\n",
      "Paciente: 1520 Probabilidade: 0.003 verde\n",
      "Paciente: 1521 Probabilidade: 0.005 verde\n",
      "Paciente: 1522 Probabilidade: 0.004 verde\n",
      "Paciente: 1523 Probabilidade: 0.003 verde\n",
      "Paciente: 1524 Probabilidade: 0.002 verde\n",
      "Paciente: 1525 Probabilidade: 0.18 amarelo\n",
      "Paciente: 1526 Probabilidade: 0.005 verde\n",
      "Paciente: 1527 Probabilidade: 0.735 vermelho\n",
      "Paciente: 1528 Probabilidade: 0.003 verde\n",
      "Paciente: 1529 Probabilidade: 0.004 verde\n",
      "Paciente: 1530 Probabilidade: 0.019 verde\n",
      "Paciente: 1531 Probabilidade: 0.003 verde\n",
      "Paciente: 1532 Probabilidade: 0.213 amarelo\n",
      "Paciente: 1533 Probabilidade: 0.002 verde\n",
      "Paciente: 1534 Probabilidade: 0.005 verde\n",
      "Paciente: 1535 Probabilidade: 0.41 vermelho\n",
      "Paciente: 1536 Probabilidade: 0.004 verde\n",
      "Paciente: 1537 Probabilidade: 0.002 verde\n",
      "Paciente: 1538 Probabilidade: 0.003 verde\n",
      "Paciente: 1539 Probabilidade: 0.35 vermelho\n",
      "Paciente: 1540 Probabilidade: 0.011 verde\n",
      "Paciente: 1541 Probabilidade: 0.006 verde\n",
      "Paciente: 1542 Probabilidade: 0.002 verde\n",
      "Paciente: 1543 Probabilidade: 0.006 verde\n",
      "Paciente: 1544 Probabilidade: 0.261 amarelo\n",
      "Paciente: 1545 Probabilidade: 0.181 amarelo\n",
      "Paciente: 1546 Probabilidade: 0.74 vermelho\n",
      "Paciente: 1547 Probabilidade: 0.002 verde\n",
      "Paciente: 1548 Probabilidade: 0.34 vermelho\n",
      "Paciente: 1549 Probabilidade: 0.008 verde\n",
      "Paciente: 1550 Probabilidade: 0.004 verde\n",
      "Paciente: 1551 Probabilidade: 0.102 amarelo\n",
      "Paciente: 1552 Probabilidade: 0.002 verde\n",
      "Paciente: 1553 Probabilidade: 0.013 verde\n",
      "Paciente: 1554 Probabilidade: 0.002 verde\n",
      "Paciente: 1555 Probabilidade: 0.003 verde\n",
      "Paciente: 1556 Probabilidade: 0.02 verde\n",
      "Paciente: 1557 Probabilidade: 0.002 verde\n",
      "Paciente: 1558 Probabilidade: 0.005 verde\n",
      "Paciente: 1559 Probabilidade: 0.004 verde\n",
      "Paciente: 1560 Probabilidade: 0.187 amarelo\n",
      "Paciente: 1561 Probabilidade: 0.002 verde\n",
      "Paciente: 1562 Probabilidade: 0.009 verde\n",
      "Paciente: 1563 Probabilidade: 0.005 verde\n",
      "Paciente: 1564 Probabilidade: 0.159 amarelo\n",
      "Paciente: 1565 Probabilidade: 0.003 verde\n",
      "Paciente: 1566 Probabilidade: 0.012 verde\n",
      "Paciente: 1567 Probabilidade: 0.353 vermelho\n",
      "Paciente: 1568 Probabilidade: 0.261 amarelo\n",
      "Paciente: 1569 Probabilidade: 0.003 verde\n",
      "Paciente: 1570 Probabilidade: 0.001 verde\n",
      "Paciente: 1571 Probabilidade: 0.23 amarelo\n",
      "Paciente: 1572 Probabilidade: 0.349 vermelho\n",
      "Paciente: 1573 Probabilidade: 0.014 verde\n",
      "Paciente: 1574 Probabilidade: 0.002 verde\n",
      "Paciente: 1575 Probabilidade: 0.003 verde\n",
      "Paciente: 1576 Probabilidade: 0.002 verde\n",
      "Paciente: 1577 Probabilidade: 0.003 verde\n",
      "Paciente: 1578 Probabilidade: 0.002 verde\n",
      "Paciente: 1579 Probabilidade: 0.004 verde\n",
      "Paciente: 1580 Probabilidade: 0.008 verde\n",
      "Paciente: 1581 Probabilidade: 0.002 verde\n",
      "Paciente: 1582 Probabilidade: 0.002 verde\n",
      "Paciente: 1583 Probabilidade: 0.002 verde\n",
      "Paciente: 1584 Probabilidade: 0.033 verde\n",
      "Paciente: 1585 Probabilidade: 0.172 amarelo\n",
      "Paciente: 1586 Probabilidade: 0.004 verde\n",
      "Paciente: 1587 Probabilidade: 0.005 verde\n",
      "Paciente: 1588 Probabilidade: 0.0 verde\n",
      "Paciente: 1589 Probabilidade: 0.645 vermelho\n",
      "Paciente: 1590 Probabilidade: 0.237 amarelo\n",
      "Paciente: 1591 Probabilidade: 0.094 amarelo\n",
      "Paciente: 1592 Probabilidade: 0.23 amarelo\n",
      "Paciente: 1593 Probabilidade: 0.7 vermelho\n",
      "Paciente: 1594 Probabilidade: 0.171 amarelo\n",
      "Paciente: 1595 Probabilidade: 0.005 verde\n",
      "Paciente: 1596 Probabilidade: 0.005 verde\n",
      "Paciente: 1597 Probabilidade: 0.23 amarelo\n",
      "Paciente: 1598 Probabilidade: 0.005 verde\n",
      "Paciente: 1599 Probabilidade: 0.23 amarelo\n",
      "Paciente: 1600 Probabilidade: 0.003 verde\n",
      "Paciente: 1601 Probabilidade: 0.003 verde\n",
      "Paciente: 1602 Probabilidade: 0.004 verde\n",
      "Paciente: 1603 Probabilidade: 0.121 amarelo\n",
      "Paciente: 1604 Probabilidade: 0.004 verde\n",
      "Paciente: 1605 Probabilidade: 0.003 verde\n",
      "Paciente: 1606 Probabilidade: 0.002 verde\n",
      "Paciente: 1607 Probabilidade: 0.127 amarelo\n",
      "Paciente: 1608 Probabilidade: 0.013 verde\n",
      "Paciente: 1609 Probabilidade: 0.079 amarelo\n",
      "Paciente: 1610 Probabilidade: 0.003 verde\n",
      "Paciente: 1611 Probabilidade: 0.182 amarelo\n",
      "Paciente: 1612 Probabilidade: 0.002 verde\n",
      "Paciente: 1613 Probabilidade: 0.006 verde\n",
      "Paciente: 1614 Probabilidade: 0.01 verde\n",
      "Paciente: 1615 Probabilidade: 0.061 amarelo\n",
      "Paciente: 1616 Probabilidade: 0.147 amarelo\n",
      "Paciente: 1617 Probabilidade: 0.002 verde\n",
      "Paciente: 1618 Probabilidade: 0.003 verde\n",
      "Paciente: 1619 Probabilidade: 0.005 verde\n",
      "Paciente: 1620 Probabilidade: 0.009 verde\n",
      "Paciente: 1621 Probabilidade: 0.006 verde\n",
      "Paciente: 1622 Probabilidade: 0.664 vermelho\n",
      "Paciente: 1623 Probabilidade: 0.006 verde\n",
      "Paciente: 1624 Probabilidade: 0.002 verde\n",
      "Paciente: 1625 Probabilidade: 0.004 verde\n",
      "Paciente: 1626 Probabilidade: 0.006 verde\n",
      "Paciente: 1627 Probabilidade: 0.005 verde\n",
      "Paciente: 1628 Probabilidade: 0.023 verde\n",
      "Paciente: 1629 Probabilidade: 0.004 verde\n",
      "Paciente: 1630 Probabilidade: 0.004 verde\n",
      "Paciente: 1631 Probabilidade: 0.004 verde\n",
      "Paciente: 1632 Probabilidade: 0.004 verde\n",
      "Paciente: 1633 Probabilidade: 0.002 verde\n",
      "Paciente: 1634 Probabilidade: 0.02 verde\n",
      "Paciente: 1635 Probabilidade: 0.006 verde\n",
      "Paciente: 1636 Probabilidade: 0.004 verde\n",
      "Paciente: 1637 Probabilidade: 0.156 amarelo\n",
      "Paciente: 1638 Probabilidade: 0.012 verde\n",
      "Paciente: 1639 Probabilidade: 0.242 amarelo\n",
      "Paciente: 1640 Probabilidade: 0.005 verde\n",
      "Paciente: 1641 Probabilidade: 0.009 verde\n",
      "Paciente: 1642 Probabilidade: 0.735 vermelho\n",
      "Paciente: 1643 Probabilidade: 0.006 verde\n",
      "Paciente: 1644 Probabilidade: 0.002 verde\n",
      "Paciente: 1645 Probabilidade: 0.007 verde\n",
      "Paciente: 1646 Probabilidade: 0.004 verde\n",
      "Paciente: 1647 Probabilidade: 0.006 verde\n",
      "Paciente: 1648 Probabilidade: 0.006 verde\n",
      "Paciente: 1649 Probabilidade: 0.003 verde\n",
      "Paciente: 1650 Probabilidade: 0.002 verde\n",
      "Paciente: 1651 Probabilidade: 0.215 amarelo\n",
      "Paciente: 1652 Probabilidade: 0.006 verde\n",
      "Paciente: 1653 Probabilidade: 0.349 vermelho\n",
      "Paciente: 1654 Probabilidade: 0.123 amarelo\n",
      "Paciente: 1655 Probabilidade: 0.187 amarelo\n",
      "Paciente: 1656 Probabilidade: 0.002 verde\n",
      "Paciente: 1657 Probabilidade: 0.434 vermelho\n",
      "Paciente: 1658 Probabilidade: 0.269 amarelo\n",
      "Paciente: 1659 Probabilidade: 0.003 verde\n",
      "Paciente: 1660 Probabilidade: 0.006 verde\n",
      "Paciente: 1661 Probabilidade: 0.003 verde\n",
      "Paciente: 1662 Probabilidade: 0.003 verde\n",
      "Paciente: 1663 Probabilidade: 0.002 verde\n",
      "Paciente: 1664 Probabilidade: 0.645 vermelho\n",
      "Paciente: 1665 Probabilidade: 0.002 verde\n",
      "Paciente: 1666 Probabilidade: 0.442 vermelho\n",
      "Paciente: 1667 Probabilidade: 0.005 verde\n",
      "Paciente: 1668 Probabilidade: 0.004 verde\n",
      "Paciente: 1669 Probabilidade: 0.001 verde\n",
      "Paciente: 1670 Probabilidade: 0.002 verde\n",
      "Paciente: 1671 Probabilidade: 0.003 verde\n",
      "Paciente: 1672 Probabilidade: 0.004 verde\n",
      "Paciente: 1673 Probabilidade: 0.004 verde\n",
      "Paciente: 1674 Probabilidade: 0.079 amarelo\n",
      "Paciente: 1675 Probabilidade: 0.003 verde\n",
      "Paciente: 1676 Probabilidade: 0.094 amarelo\n",
      "Paciente: 1677 Probabilidade: 0.436 vermelho\n",
      "Paciente: 1678 Probabilidade: 0.044 verde\n",
      "Paciente: 1679 Probabilidade: 0.664 vermelho\n",
      "Paciente: 1680 Probabilidade: 0.004 verde\n",
      "Paciente: 1681 Probabilidade: 0.002 verde\n",
      "Paciente: 1682 Probabilidade: 0.02 verde\n",
      "Paciente: 1683 Probabilidade: 0.012 verde\n",
      "Paciente: 1684 Probabilidade: 0.353 vermelho\n",
      "Paciente: 1685 Probabilidade: 0.013 verde\n",
      "Paciente: 1686 Probabilidade: 0.012 verde\n",
      "Paciente: 1687 Probabilidade: 0.005 verde\n",
      "Paciente: 1688 Probabilidade: 0.404 vermelho\n",
      "Paciente: 1689 Probabilidade: 0.006 verde\n",
      "Paciente: 1690 Probabilidade: 0.288 amarelo\n",
      "Paciente: 1691 Probabilidade: 0.01 verde\n",
      "Paciente: 1692 Probabilidade: 0.002 verde\n",
      "Paciente: 1693 Probabilidade: 0.003 verde\n",
      "Paciente: 1694 Probabilidade: 0.002 verde\n"
     ]
    }
   ],
   "source": [
    "\n",
    "for i in np.arange(0,len(predicted_proba[:,1])):\n",
    "  if predicted_proba[i,1] < 0.05:\n",
    "    print('Paciente:',test.loc[i, \"id\"],'Probabilidade:',round(predicted_proba[i,1],3),'verde')\n",
    "  elif predicted_proba[i,1] >= 0.05 and predicted_proba[i,1] < 0.3:\n",
    "    print('Paciente:',test.loc[i, \"id\"],'Probabilidade:',round(predicted_proba[i,1],3),'amarelo')\n",
    "  elif predicted_proba[i,1] >= 0.3:\n",
    "    print('Paciente:',test.loc[i, \"id\"],'Probabilidade:',round(predicted_proba[i,1],3),'vermelho')"
   ]
  }
 ],
 "metadata": {
  "kernelspec": {
   "display_name": "Python 3",
   "language": "python",
   "name": "python3"
  },
  "language_info": {
   "codemirror_mode": {
    "name": "ipython",
    "version": 3
   },
   "file_extension": ".py",
   "mimetype": "text/x-python",
   "name": "python",
   "nbconvert_exporter": "python",
   "pygments_lexer": "ipython3",
   "version": "3.7.10"
  },
  "papermill": {
   "default_parameters": {},
   "duration": 2569.537854,
   "end_time": "2021-06-19T02:44:44.255429",
   "environment_variables": {},
   "exception": null,
   "input_path": "__notebook__.ipynb",
   "output_path": "__notebook__.ipynb",
   "parameters": {},
   "start_time": "2021-06-19T02:01:54.717575",
   "version": "2.3.3"
  }
 },
 "nbformat": 4,
 "nbformat_minor": 5
}
